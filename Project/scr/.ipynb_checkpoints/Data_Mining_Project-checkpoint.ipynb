{
 "cells": [
  {
   "cell_type": "markdown",
   "metadata": {},
   "source": [
    "Αρχικά επειδή τα εργαλεία που θα χρησιμοποιήσουμε ειναι case sensitive θα μετατρέψουμε το training set μας σε lowercase"
   ]
  },
  {
   "cell_type": "code",
   "execution_count": 1,
   "metadata": {
    "scrolled": false
   },
   "outputs": [
    {
     "name": "stdout",
     "output_type": "stream",
     "text": [
      "[\"264183816548130816\\t15140428\\tpositive\\tGas by my house hit $3.39!!!! I'm going to Chapel Hill on Sat. :)\", '263405084770172928\\t591166521\\tnegative\\tTheo Walcott is still shit, watch Rafa and Johnny deal with him on Saturday.', \"262163168678248449\\t35266263\\tnegative\\tits not that I'm a GSP fan, i just hate Nick Diaz. can't wait for february.\", \"264249301910310912\\t18516728\\tnegative\\tIranian general says Israel's Iron Dome can't deal with their missiles (keep talking like that and we may end up finding out)\", '262682041215234048\\t254373818\\tneutral\\tTehran, Mon Amour: Obama Tried to Establish Ties with the Mullahs http://t.co/TZZzrrKa via @PJMedia_com No Barack Obama - Vote Mitt Romney', '264229576773861376\\t518129399\\tneutral\\tI sat through this whole movie just for Harry and Ron at christmas. ohlawd', '264105751826538497\\t147088367\\tpositive\\twith J Davlar 11th. Main rivals are team Poland. Hopefully we an make it a successful end to a tough week of training tomorrow.', \"264094586689953794\\t332474633\\tnegative\\tTalking about ACT's && SAT's, deciding where I want to go to college, applying to colleges and everything about college stresses me out.\"]\n"
     ]
    }
   ],
   "source": [
    "#with open('../twitter_data/train2017.tsv', 'r', encoding=\"utf8\") as fileInput:\n",
    "with open('test.tsv', 'r', encoding=\"utf8\") as fileInput:\n",
    "    text = ''\n",
    "    for line in fileInput:\n",
    "        line = line.lower()\n",
    "        text += line\n",
    "    print(text)\n"
   ]
  },
  {
   "cell_type": "markdown",
   "metadata": {},
   "source": [
    "Σπάσιμο κειμένου σε προτάσεις"
   ]
  },
  {
   "cell_type": "code",
   "execution_count": 2,
   "metadata": {
    "scrolled": false
   },
   "outputs": [],
   "source": [
    "from nltk import sent_tokenize\n",
    "\n",
    "sentences = sent_tokenize(text)\n",
    "print(sentences)"
   ]
  },
  {
   "cell_type": "markdown",
   "metadata": {},
   "source": [
    "Σπάσιμο προτάσεων σε λέξεις"
   ]
  },
  {
   "cell_type": "code",
   "execution_count": 7,
   "metadata": {},
   "outputs": [
    {
     "name": "stdout",
     "output_type": "stream",
     "text": [
      "[['264183816548130816', '15140428', 'positive', 'Gas', 'by', 'my', 'house', 'hit', '$', '3.39', '!', '!', '!', '!', 'I', \"'m\", 'going', 'to', 'Chapel', 'Hill', 'on', 'Sat', '.', ':', ')'], ['263405084770172928', '591166521', 'negative', 'Theo', 'Walcott', 'is', 'still', 'shit', ',', 'watch', 'Rafa', 'and', 'Johnny', 'deal', 'with', 'him', 'on', 'Saturday', '.'], ['262163168678248449', '35266263', 'negative', 'its', 'not', 'that', 'I', \"'m\", 'a', 'GSP', 'fan', ',', 'i', 'just', 'hate', 'Nick', 'Diaz', '.', 'ca', \"n't\", 'wait', 'for', 'february', '.'], ['264249301910310912', '18516728', 'negative', 'Iranian', 'general', 'says', 'Israel', \"'s\", 'Iron', 'Dome', 'ca', \"n't\", 'deal', 'with', 'their', 'missiles', '(', 'keep', 'talking', 'like', 'that', 'and', 'we', 'may', 'end', 'up', 'finding', 'out', ')'], ['262682041215234048', '254373818', 'neutral', 'Tehran', ',', 'Mon', 'Amour', ':', 'Obama', 'Tried', 'to', 'Establish', 'Ties', 'with', 'the', 'Mullahs', 'http', ':', '//t.co/TZZzrrKa', 'via', '@', 'PJMedia_com', 'No', 'Barack', 'Obama', '-', 'Vote', 'Mitt', 'Romney'], ['264229576773861376', '518129399', 'neutral', 'I', 'sat', 'through', 'this', 'whole', 'movie', 'just', 'for', 'Harry', 'and', 'Ron', 'at', 'christmas', '.', 'ohlawd'], ['264105751826538497', '147088367', 'positive', 'with', 'J', 'Davlar', '11th', '.', 'Main', 'rivals', 'are', 'team', 'Poland', '.', 'Hopefully', 'we', 'an', 'make', 'it', 'a', 'successful', 'end', 'to', 'a', 'tough', 'week', 'of', 'training', 'tomorrow', '.'], ['264094586689953794', '332474633', 'negative', 'Talking', 'about', 'ACT', \"'s\", '&', '&', 'SAT', \"'s\", ',', 'deciding', 'where', 'I', 'want', 'to', 'go', 'to', 'college', ',', 'applying', 'to', 'colleges', 'and', 'everything', 'about', 'college', 'stresses', 'me', 'out', '.']]\n"
     ]
    }
   ],
   "source": [
    "from nltk import word_tokenize\n",
    "\n",
    "tokens = word_tokenize(text)\n",
    "print(tokens)"
   ]
  },
  {
   "cell_type": "markdown",
   "metadata": {},
   "source": [
    "Αφαίρεση των tags"
   ]
  },
  {
   "cell_type": "code",
   "execution_count": 8,
   "metadata": {
    "scrolled": true
   },
   "outputs": [
    {
     "name": "stdout",
     "output_type": "stream",
     "text": [
      "[['264183816548130816', '15140428', 'positive', 'Gas', 'by', 'my', 'house', 'hit', '$', '3.39', '!', '!', '!', '!', 'I', \"'m\", 'going', 'to', 'Chapel', 'Hill', 'on', 'Sat', '.', ':', ')'], ['263405084770172928', '591166521', 'negative', 'Theo', 'Walcott', 'is', 'still', 'shit', ',', 'watch', 'Rafa', 'and', 'Johnny', 'deal', 'with', 'him', 'on', 'Saturday', '.'], ['262163168678248449', '35266263', 'negative', 'its', 'not', 'that', 'I', \"'m\", 'a', 'GSP', 'fan', ',', 'i', 'just', 'hate', 'Nick', 'Diaz', '.', 'ca', \"n't\", 'wait', 'for', 'february', '.'], ['264249301910310912', '18516728', 'negative', 'Iranian', 'general', 'says', 'Israel', \"'s\", 'Iron', 'Dome', 'ca', \"n't\", 'deal', 'with', 'their', 'missiles', '(', 'keep', 'talking', 'like', 'that', 'and', 'we', 'may', 'end', 'up', 'finding', 'out', ')'], ['262682041215234048', '254373818', 'neutral', 'Tehran', ',', 'Mon', 'Amour', ':', 'Obama', 'Tried', 'to', 'Establish', 'Ties', 'with', 'the', 'Mullahs', 'http', ':', '//t.co/TZZzrrKa', 'via', '@', 'PJMedia_com', 'No', 'Barack', 'Obama', '-', 'Vote', 'Mitt', 'Romney'], ['264229576773861376', '518129399', 'neutral', 'I', 'sat', 'through', 'this', 'whole', 'movie', 'just', 'for', 'Harry', 'and', 'Ron', 'at', 'christmas', '.', 'ohlawd'], ['264105751826538497', '147088367', 'positive', 'with', 'J', 'Davlar', '11th', '.', 'Main', 'rivals', 'are', 'team', 'Poland', '.', 'Hopefully', 'we', 'an', 'make', 'it', 'a', 'successful', 'end', 'to', 'a', 'tough', 'week', 'of', 'training', 'tomorrow', '.'], ['264094586689953794', '332474633', 'negative', 'Talking', 'about', 'ACT', \"'s\", '&', '&', 'SAT', \"'s\", ',', 'deciding', 'where', 'I', 'want', 'to', 'go', 'to', 'college', ',', 'applying', 'to', 'colleges', 'and', 'everything', 'about', 'college', 'stresses', 'me', 'out', '.']]\n"
     ]
    }
   ],
   "source": [
    "for word in tokens:\n",
    "    if word == '@':\n",
    "        tokens.remove(tokens[tokens.index(word)+1])\n",
    "        tokens.remove(tokens[tokens.index(word)])\n",
    "print(tokens)"
   ]
  },
  {
   "cell_type": "markdown",
   "metadata": {},
   "source": [
    "Καθάρισμα σημείων στήξεως"
   ]
  },
  {
   "cell_type": "code",
   "execution_count": 9,
   "metadata": {
    "scrolled": true
   },
   "outputs": [
    {
     "ename": "AttributeError",
     "evalue": "'list' object has no attribute 'strip'",
     "output_type": "error",
     "traceback": [
      "\u001b[1;31m---------------------------------------------------------------------------\u001b[0m",
      "\u001b[1;31mAttributeError\u001b[0m                            Traceback (most recent call last)",
      "\u001b[1;32m<ipython-input-9-f57219ab79b2>\u001b[0m in \u001b[0;36m<module>\u001b[1;34m\u001b[0m\n\u001b[0;32m      2\u001b[0m \u001b[0mclearedTokens\u001b[0m \u001b[1;33m=\u001b[0m \u001b[1;33m[\u001b[0m\u001b[1;33m]\u001b[0m\u001b[1;33m\u001b[0m\u001b[1;33m\u001b[0m\u001b[0m\n\u001b[0;32m      3\u001b[0m \u001b[1;32mfor\u001b[0m \u001b[0mword\u001b[0m \u001b[1;32min\u001b[0m \u001b[0mtokens\u001b[0m\u001b[1;33m:\u001b[0m\u001b[1;33m\u001b[0m\u001b[1;33m\u001b[0m\u001b[0m\n\u001b[1;32m----> 4\u001b[1;33m     \u001b[0mclearedTokens\u001b[0m\u001b[1;33m.\u001b[0m\u001b[0mappend\u001b[0m\u001b[1;33m(\u001b[0m\u001b[0mword\u001b[0m\u001b[1;33m.\u001b[0m\u001b[0mstrip\u001b[0m\u001b[1;33m(\u001b[0m\u001b[0mpunctuation\u001b[0m\u001b[1;33m)\u001b[0m\u001b[1;33m)\u001b[0m\u001b[1;33m\u001b[0m\u001b[1;33m\u001b[0m\u001b[0m\n\u001b[0m\u001b[0;32m      5\u001b[0m \u001b[0mprint\u001b[0m\u001b[1;33m(\u001b[0m\u001b[0mclearedTokens\u001b[0m\u001b[1;33m)\u001b[0m\u001b[1;33m\u001b[0m\u001b[1;33m\u001b[0m\u001b[0m\n",
      "\u001b[1;31mAttributeError\u001b[0m: 'list' object has no attribute 'strip'"
     ]
    }
   ],
   "source": [
    "from string import punctuation\n",
    "clearedTokens = []\n",
    "for word in tokens:\n",
    "    clearedTokens.append(word.strip(punctuation))\n",
    "print(clearedTokens)\n"
   ]
  },
  {
   "cell_type": "markdown",
   "metadata": {},
   "source": [
    "Καθάρισμα απο stopwords και κενα tokens"
   ]
  },
  {
   "cell_type": "code",
   "execution_count": null,
   "metadata": {
    "scrolled": true
   },
   "outputs": [],
   "source": [
    "from nltk.corpus import stopwords\n",
    "filtered = [w for w in clearedTokens if not w in stopwords.words('english') and w != '']\n",
    "print(filtered)"
   ]
  }
 ],
 "metadata": {
  "kernelspec": {
   "display_name": "Python 3",
   "language": "python",
   "name": "python3"
  },
  "language_info": {
   "codemirror_mode": {
    "name": "ipython",
    "version": 3
   },
   "file_extension": ".py",
   "mimetype": "text/x-python",
   "name": "python",
   "nbconvert_exporter": "python",
   "pygments_lexer": "ipython3",
   "version": "3.7.3"
  }
 },
 "nbformat": 4,
 "nbformat_minor": 2
}
