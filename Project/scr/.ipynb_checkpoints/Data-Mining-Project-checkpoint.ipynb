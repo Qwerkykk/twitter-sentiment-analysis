{
 "cells": [
  {
   "cell_type": "markdown",
   "metadata": {},
   "source": [
    "Αρχικά επειδή τα εργαλεία που θα χρησιμοποιήσουμε ειναι case sensitive θα μετατρέψουμε το training set μας σε lowercase"
   ]
  },
  {
   "cell_type": "code",
   "execution_count": null,
   "metadata": {
    "scrolled": false
   },
   "outputs": [],
   "source": [
    "with open('../twitter_data/train2017.tsv', 'r', encoding=\"utf8\") as fileInput:\n",
    "#with open('test.tsv', 'r', encoding=\"utf8\") as fileInput:\n",
    "    text = ''\n",
    "    for line in fileInput:\n",
    "        line = line.lower()\n",
    "        text += line\n",
    "    #print(text)\n"
   ]
  },
  {
   "cell_type": "markdown",
   "metadata": {},
   "source": [
    "Aφαίρεση των URL"
   ]
  },
  {
   "cell_type": "code",
   "execution_count": null,
   "metadata": {},
   "outputs": [],
   "source": [
    "import re\n",
    "text = re.sub(r'''(?i)\\b((?:https?://|www\\d{0,3}[.]|[a-z0-9.\\-]+[.][a-z]{2,4}/)(?:[^\\s()<>]+|\\(([^\\s()<>]+|(\\([^\\s()<>]+\\)))*\\))+(?:\\(([^\\s()<>]+|(\\([^\\s()<>]+\\)))*\\)|[^\\s`!()\\[\\]{};:'\".,<>?«»“”‘’]))''', ' ! ', text)\n",
    "text = text.replace('can\\'t',' cant ')\n",
    "text = text.replace(' u ', ' you ')"
   ]
  },
  {
   "cell_type": "markdown",
   "metadata": {},
   "source": [
    "Σπάσιμο κειμένου σε tweet για να επεξεργαστούμε το καθένα ξεχωριστά"
   ]
  },
  {
   "cell_type": "code",
   "execution_count": null,
   "metadata": {},
   "outputs": [],
   "source": [
    "tweetList = text.splitlines()\n",
    "#print(tweetList)"
   ]
  },
  {
   "cell_type": "markdown",
   "metadata": {},
   "source": [
    "Σπάσιμο tweet σε λέξεις"
   ]
  },
  {
   "cell_type": "code",
   "execution_count": null,
   "metadata": {},
   "outputs": [],
   "source": [
    "from nltk import word_tokenize\n",
    "tokenedTweetList = []\n",
    "for tweet in tweetList:\n",
    "    tokenedTweetList.append(word_tokenize(tweet))\n",
    "#print(tokenedTweetList)"
   ]
  },
  {
   "cell_type": "markdown",
   "metadata": {},
   "source": [
    "Αφαίρεση των tags"
   ]
  },
  {
   "cell_type": "code",
   "execution_count": null,
   "metadata": {
    "scrolled": true
   },
   "outputs": [],
   "source": [
    "for tweet in tokenedTweetList:\n",
    "    for word in tweet:\n",
    "        if word == '@':\n",
    "            tweet.remove(tweet[tweet.index(word)+1])\n",
    "            tweet.remove(tweet[tweet.index(word)])\n",
    "#print(tokenedTweetList)"
   ]
  },
  {
   "cell_type": "markdown",
   "metadata": {},
   "source": [
    "Καθάρισμα σημείων στήξεως"
   ]
  },
  {
   "cell_type": "code",
   "execution_count": null,
   "metadata": {
    "scrolled": false
   },
   "outputs": [],
   "source": [
    "from string import punctuation\n",
    "clearedTweetList = []\n",
    "for tweet in tokenedTweetList:\n",
    "    for word in tweet:\n",
    "        tokenedTweetList[tokenedTweetList.index(tweet)][tweet.index(word)] = word.strip(punctuation)\n",
    "#print(tokenedTweetList)\n"
   ]
  },
  {
   "cell_type": "markdown",
   "metadata": {},
   "source": [
    "Καθάρισμα απο stopwords και κενα tokens"
   ]
  },
  {
   "cell_type": "code",
   "execution_count": null,
   "metadata": {
    "scrolled": false
   },
   "outputs": [],
   "source": [
    "from nltk.corpus import stopwords\n",
    "\n",
    "cleanedTweetList = []\n",
    "\n",
    "for tweet in tokenedTweetList:\n",
    "    cleanedTweet = []\n",
    "    for word in tweet:\n",
    "        if word not in stopwords.words('english') and word != '':\n",
    "            cleanedTweet.append(word);\n",
    "    cleanedTweetList.append(cleanedTweet)\n",
    "#print(cleanedTweetList)"
   ]
  },
  {
   "cell_type": "code",
   "execution_count": null,
   "metadata": {},
   "outputs": [],
   "source": [
    "file = open('filteredTweets.tsv', 'w', encoding=\"utf8\")\n",
    "\n",
    "for tweet in cleanedTweetList:\n",
    "    for word in tweet:\n",
    "        file.write(word + ' ')\n",
    "    file.write('\\n')\n",
    "file.close()"
   ]
  },
  {
   "cell_type": "markdown",
   "metadata": {},
   "source": [
    "Θα διαχωρήσουμε τα positive/negative/neutral tweets σε διαφορετικά αρχεία για μα διευκολήνουμε την επεξεργασία τους"
   ]
  },
  {
   "cell_type": "code",
   "execution_count": null,
   "metadata": {},
   "outputs": [],
   "source": [
    "file = open('positiveTweets.tsv', 'w', encoding=\"utf8\")\n",
    "\n",
    "for tweet in cleanedTweetList:\n",
    "    if tweet[2] == 'positive':\n",
    "        for word in tweet[3:]:\n",
    "            file.write(word + ' ')\n",
    "        file.write('\\n')\n",
    "file.close()\n",
    "\n",
    "file = open('negativeTweets.tsv', 'w', encoding=\"utf8\")\n",
    "\n",
    "for tweet in cleanedTweetList:\n",
    "    if tweet[2] == 'negative':\n",
    "        for word in tweet[3:]:\n",
    "            file.write(word + ' ')\n",
    "        file.write('\\n')\n",
    "file.close()\n",
    "\n",
    "file = open('neutralTweets.tsv', 'w', encoding=\"utf8\")\n",
    "\n",
    "for tweet in cleanedTweetList:\n",
    "    if tweet[2] == 'neutral':\n",
    "        for word in tweet[3:]:\n",
    "            file.write(word + ' ')\n",
    "        file.write('\\n')\n",
    "file.close()\n"
   ]
  },
  {
   "cell_type": "markdown",
   "metadata": {},
   "source": [
    "Lemmatized εκδοσεις των παραπάνων αρχείων που θα χρησιμοποιηθούν για ακριβέστερα αποτελέσματα στα dataframes/WordClouds"
   ]
  },
  {
   "cell_type": "code",
   "execution_count": null,
   "metadata": {},
   "outputs": [],
   "source": [
    "\n",
    "from nltk.stem import  WordNetLemmatizer\n",
    "lemmatizer = WordNetLemmatizer()\n",
    "\n",
    "lemmatized_output = []\n",
    "for tweet in cleanedTweetList:\n",
    "    lemmatized_output.append([lemmatizer.lemmatize(word) for word in tweet])\n",
    "\n",
    "\n",
    "file = open('lemmatizedPositiveTweets.tsv', 'w', encoding=\"utf8\")\n",
    "\n",
    "for tweet in lemmatized_output:\n",
    "    if tweet[2] == 'positive':\n",
    "        for word in tweet[3:]:\n",
    "            file.write(word + ' ')\n",
    "        file.write('\\n')\n",
    "file.close()\n",
    "\n",
    "file = open('lemmatizedNegativeTweets.tsv', 'w', encoding=\"utf8\")\n",
    "\n",
    "for tweet in lemmatized_output:\n",
    "    if tweet[2] == 'negative':\n",
    "        for word in tweet[3:]:\n",
    "            file.write(word + ' ')\n",
    "        file.write('\\n')\n",
    "file.close()\n",
    "\n",
    "file = open('lemmatizedNeutralTweets.tsv', 'w', encoding=\"utf8\")\n",
    "\n",
    "for tweet in lemmatized_output:\n",
    "    if tweet[2] == 'neutral':\n",
    "        for word in tweet[3:]:\n",
    "            file.write(word + ' ')\n",
    "        file.write('\\n')\n",
    "file.close()"
   ]
  },
  {
   "cell_type": "markdown",
   "metadata": {},
   "source": [
    " Οι 50 πιο συχνά χρησιμοποιημένες λέξεις στα θετικά tweets"
   ]
  },
  {
   "cell_type": "code",
   "execution_count": null,
   "metadata": {},
   "outputs": [],
   "source": [
    "from collections import Counter\n",
    "import pandas as pd \n",
    "from nltk import word_tokenize\n",
    "\n",
    "with open('lemmatizedPositiveTweets.tsv', 'r', encoding=\"utf8\") as fileInput:\n",
    "    data = ''\n",
    "    for line in fileInput:\n",
    "        line = line.lower()\n",
    "        data += line\n",
    "    \n",
    "tweetList = data.splitlines()\n",
    "\n",
    "positiveTweetList = []\n",
    "for tweet in tweetList:\n",
    "    positiveTweetList.append(word_tokenize(tweet))\n",
    "\n",
    "count = Counter(' ')\n",
    "for tweet in positiveTweetList:\n",
    "    count +=  Counter(tweet)\n",
    "    \n",
    "dataFrame = pd.DataFrame(data =count.most_common(50), columns=['Word', 'Count'])\n",
    "dataFrame"
   ]
  },
  {
   "cell_type": "markdown",
   "metadata": {},
   "source": [
    "Για την δημιουργία του Word Cloud θα χρησιμοποιησουμε το παρακάτω πακέτο(https://anaconda.org/conda-forge/wordcloud)"
   ]
  },
  {
   "cell_type": "markdown",
   "metadata": {},
   "source": [
    "Oι 50 πιο συχνά χρησιμοποιημένες λέξεις για τα αρνητικά tweets"
   ]
  },
  {
   "cell_type": "code",
   "execution_count": null,
   "metadata": {},
   "outputs": [],
   "source": [
    "from collections import Counter\n",
    "\n",
    "with open('lemmatizedNegativeTweets.tsv', 'r', encoding=\"utf8\") as fileInput:\n",
    "    data = ''\n",
    "    for line in fileInput:\n",
    "        line = line.lower()\n",
    "        data += line\n",
    "    \n",
    "tweetList = data.splitlines()\n",
    "\n",
    "negativeTweetList = []\n",
    "for tweet in tweetList:\n",
    "    negativeTweetList.append(word_tokenize(tweet))\n",
    "\n",
    "count = Counter(' ')\n",
    "for tweet in negativeTweetList:\n",
    "    count +=  Counter(tweet)\n",
    "    \n",
    "dataFrame = pd.DataFrame(data =count.most_common(50), columns=['Word', 'Count'])\n",
    "dataFrame"
   ]
  },
  {
   "cell_type": "markdown",
   "metadata": {},
   "source": [
    "Οι 50 πιο συχνά χρησιμοποιημένες λέξεις για τα ουδέτερα tweets"
   ]
  },
  {
   "cell_type": "code",
   "execution_count": null,
   "metadata": {},
   "outputs": [],
   "source": [
    "from collections import Counter\n",
    "\n",
    "with open('lemmatizedNeutralTweets.tsv', 'r', encoding=\"utf8\") as fileInput:\n",
    "    data = ''\n",
    "    for line in fileInput:\n",
    "        line = line.lower()\n",
    "        data += line\n",
    "    \n",
    "tweetList = data.splitlines()\n",
    "\n",
    "neutralTweetList = []\n",
    "for tweet in tweetList:\n",
    "    neutralTweetList.append(word_tokenize(tweet))\n",
    "\n",
    "count = Counter(' ')\n",
    "for tweet in neutralTweetList:\n",
    "    count +=  Counter(tweet)\n",
    "\n",
    "dataFrame = pd.DataFrame(data =count.most_common(50), columns=['Word', 'Count'])\n",
    "dataFrame"
   ]
  },
  {
   "cell_type": "markdown",
   "metadata": {},
   "source": [
    "    Positive Tweets Word Cloud"
   ]
  },
  {
   "cell_type": "code",
   "execution_count": null,
   "metadata": {
    "scrolled": true
   },
   "outputs": [],
   "source": [
    "from wordcloud import WordCloud, STOPWORDS\n",
    "import matplotlib.pyplot as plt \n",
    "import pandas as pd \n",
    "from nltk import word_tokenize\n",
    "\n",
    "positiveText = ''\n",
    "for tweet in positiveTweetList:\n",
    "    for word in tweet:\n",
    "        positiveText = positiveText + word + ' '\n",
    "\n",
    "wordcloud = WordCloud(width = 1200, height = 1200, \n",
    "                background_color ='white',\n",
    "                stopwords = set(STOPWORDS),\n",
    "                min_font_size = 14).generate(positiveText)\n",
    "plt.figure(figsize = (8, 8), facecolor = None) \n",
    "plt.imshow(wordcloud) \n",
    "plt.axis(\"off\") \n",
    "plt.tight_layout(pad = 0) \n",
    "  \n",
    "plt.show()"
   ]
  },
  {
   "cell_type": "markdown",
   "metadata": {},
   "source": [
    "    Negative Tweets Word Cloud"
   ]
  },
  {
   "cell_type": "code",
   "execution_count": null,
   "metadata": {},
   "outputs": [],
   "source": [
    "negativeText = ''\n",
    "for tweet in negativeTweetList:\n",
    "    for word in tweet:\n",
    "        negativeText = negativeText + word + ' '\n",
    "\n",
    "wordcloud = WordCloud(width = 1200, height = 1200, \n",
    "                background_color ='white',\n",
    "                stopwords = set(STOPWORDS),\n",
    "                min_font_size = 14).generate(negativeText)\n",
    "plt.figure(figsize = (8, 8), facecolor = None) \n",
    "plt.imshow(wordcloud) \n",
    "plt.axis(\"off\") \n",
    "plt.tight_layout(pad = 0) \n",
    "  \n",
    "plt.show()"
   ]
  },
  {
   "cell_type": "markdown",
   "metadata": {},
   "source": [
    "    Neutral Tweets Word Cloud"
   ]
  },
  {
   "cell_type": "code",
   "execution_count": null,
   "metadata": {
    "scrolled": true
   },
   "outputs": [],
   "source": [
    "neutralText = ''\n",
    "for tweet in neutralTweetList:\n",
    "    for word in tweet:\n",
    "        neutralText = neutralText + word + ' '\n",
    "\n",
    "wordcloud = WordCloud(width = 1200, height = 1200, \n",
    "                background_color ='white',\n",
    "                stopwords = set(STOPWORDS),\n",
    "                min_font_size = 14).generate(neutralText)\n",
    "plt.figure(figsize = (8, 8), facecolor = None) \n",
    "plt.imshow(wordcloud) \n",
    "plt.axis(\"off\") \n",
    "plt.tight_layout(pad = 0) \n",
    "  \n",
    "plt.show()"
   ]
  },
  {
   "cell_type": "markdown",
   "metadata": {},
   "source": [
    "Stemmed εκδοση των positive/negative/neutral files "
   ]
  },
  {
   "cell_type": "code",
   "execution_count": null,
   "metadata": {},
   "outputs": [],
   "source": [
    "from nltk.stem import PorterStemmer\n",
    "\n",
    "stemmer = PorterStemmer()\n",
    "stemmedTweetList = []\n",
    "for tokens in cleanedTweetList:\n",
    "    stemmedTweetList.append([stemmer.stem(token) for token in tokens ])\n",
    "    \n",
    "file = open('stemmedPositiveTweets.tsv', 'w', encoding=\"utf8\")\n",
    "\n",
    "for tweet in stemmedTweetList:\n",
    "    if tweet[2] == 'positive':\n",
    "        for word in tweet[3:]:\n",
    "            file.write(word + ' ')\n",
    "        file.write('\\n')\n",
    "file.close()\n",
    "\n",
    "file = open('stemmedNegativeTweets.tsv', 'w', encoding=\"utf8\")\n",
    "\n",
    "for tweet in stemmedTweetList:\n",
    "    if tweet[2] == 'negative':\n",
    "        for word in tweet[3:]:\n",
    "            file.write(word + ' ')\n",
    "        file.write('\\n')\n",
    "file.close()\n",
    "\n",
    "file = open('stemmedNeutralTweets.tsv', 'w', encoding=\"utf8\")\n",
    "\n",
    "for tweet in stemmedTweetList:\n",
    "    if tweet[2] == 'neutral':\n",
    "        for word in tweet[3:]:\n",
    "            file.write(word + ' ')\n",
    "        file.write('\\n')\n",
    "file.close()\n"
   ]
  },
  {
   "cell_type": "markdown",
   "metadata": {},
   "source": [
    "Δημιουργία Bag-of-word και αποθήκευση σε csv ή pickle"
   ]
  },
  {
   "cell_type": "code",
   "execution_count": 15,
   "metadata": {},
   "outputs": [
    {
     "name": "stdout",
     "output_type": "stream",
     "text": [
      "['10', '12', '1st', '2012', '2nd', '30', '3rd', '4th', '5th', 'amp', 'apple', 'big', 'black', 'buy', 'check', 'city', 'come', 'coming', 'david', 'day', 'end', 'event', 'free', 'friday', 'game', 'going', 'gon', 'google', 'got', 'guy', 'hey', 'home', 'house', 'january', 'know', 'let', 'like', 'live', 'lol', 'look', 'lor', 'make', 'march', 'meet', 'monday', 'morning', 'movie', 'na', 'need', 'new', 'news', 'night', 'nov', 'november', 'oct', 'october', 'open', 'party', 'place', 'play', 'right', 'rt', 'said', 'sat', 'saturday', 'say', 'school', 'season', 'set', 'star', 'start', 'sun', 'sunday', 'team', 'thing', 'think', 'thursday', 'ticket', 'time', 'today', 'tomorrow', 'tonight', 'tuesday', 'u002c', 'u2019m', 'u2019s', 'wan', 'want', 'watch', 'watching', 'way', 'wednesday', 'week', 'win', 'work', 'world', 'year']\n"
     ]
    }
   ],
   "source": [
    "import pickle\n",
    "from sklearn.feature_extraction.text import CountVectorizer\n",
    "import pandas as pd\n",
    "\n",
    "with open('lemmatizedNeutralTweets.tsv', 'r', encoding=\"utf8\") as fileInput:\n",
    "    data = ''\n",
    "    for line in fileInput:\n",
    "        line = line.lower()\n",
    "        data += line\n",
    "    \n",
    "tweetList = data.splitlines()\n",
    "\n",
    "'''\n",
    "max_df = 0.50 means \"ignore terms that appear in more than 50% of the documents\".\n",
    "max_df = 25 means \"ignore terms that appear in more than 25 documents\".\n",
    "The default max_df is 1.0, which means \"ignore terms that appear in more than 100% of the documents\". Thus, the default setting does not ignore any terms\n",
    "min_df = 0.01 means \"ignore terms that appear in less than 1% of the documents\".\n",
    "min_df = 5 means \"ignore terms that appear in less than 5 documents\"\n",
    "The default min_df is 1, which means \"ignore terms that appear in less than 1 document\". Thus, the default setting does not ignore any terms.\n",
    "'''\n",
    "\n",
    "vectorizer = CountVectorizer(max_features = 200,stop_words='english',max_df=0.5,min_df=0.01)\n",
    "\n",
    "vectorizedTweetList = vectorizer.fit_transform(tweetList)\n",
    "print(vectorizer.get_feature_names())\n",
    "\n",
    "#df = pd.DataFrame(data = vectorizedTweetList.toarray(), columns = vectorizer.get_feature_names())\n",
    "#df.to_csv('neutralBagOfWords.csv',index=False)\n",
    "\n",
    "pickle_out = open('neutralBagOfWords.pickle','wb')\n",
    "pickle.dump(vectorizedTweetList.toarray(), pickle_out)\n"
   ]
  },
  {
   "cell_type": "code",
   "execution_count": 16,
   "metadata": {},
   "outputs": [
    {
     "name": "stdout",
     "output_type": "stream",
     "text": [
      "['10', '1st', '2nd', '3rd', '4th', '5th', 'amazon', 'amp', 'bad', 'better', 'big', 'black', 'bush', 'come', 'coming', 'damn', 'david', 'day', 'don', 'dont', 'dun', 'end', 'erdogan', 'fan', 'feel', 'friday', 'fuck', 'fucking', 'game', 'getting', 'going', 'gon', 'good', 'got', 'guy', 'hate', 'hillary', 'home', 'hope', 'im', 'know', 'late', 'let', 'life', 'like', 'lol', 'long', 'look', 'lor', 'lost', 'make', 'man', 'march', 'mean', 'miss', 'mon', 'monday', 'morning', 'na', 'need', 'new', 'news', 'night', 'oh', 'people', 'place', 'play', 'prime', 'really', 'right', 'rt', 'sad', 'said', 'sat', 'saturday', 'say', 'school', 'season', 'shit', 'sorry', 'start', 'sun', 'sunday', 'sure', 'talk', 'team', 'tell', 'thing', 'think', 'thursday', 'time', 'today', 'tomorrow', 'tonight', 'trump', 'tuesday', 'tv', 'u002c', 'u2019m', 'u2019s', 'u2019t', 'wait', 'wan', 'want', 'watch', 'watching', 'way', 'wednesday', 'week', 'went', 'win', 'wo', 'work', 'world', 'year']\n"
     ]
    }
   ],
   "source": [
    "import pickle\n",
    "import pandas as pd\n",
    "from sklearn.feature_extraction.text import CountVectorizer\n",
    "\n",
    "with open('lemmatizedNegativeTweets.tsv', 'r', encoding=\"utf8\") as fileInput:\n",
    "    data = ''\n",
    "    for line in fileInput:\n",
    "        line = line.lower()\n",
    "        data += line\n",
    "    \n",
    "tweetList = data.splitlines()\n",
    "\n",
    "from sklearn.feature_extraction.text import CountVectorizer\n",
    "vectorizer = CountVectorizer(max_features = 200,stop_words='english',max_df=0.5,min_df=0.01)\n",
    "\n",
    "vectorizedTweetList = vectorizer.fit_transform(tweetList)\n",
    "print(vectorizer.get_feature_names())\n",
    "\n",
    "\n",
    "#df = pd.DataFrame(data = vectorizedTweetList.toarray(), columns = vectorizer.get_feature_names())\n",
    "#df.to_csv('negativeBagOfWords.csv',index=False)\n",
    "\n",
    "pickle_out = open('negativeBagOfWords.pickle','wb')\n",
    "pickle.dump(vectorizedTweetList.toarray(), pickle_out)"
   ]
  },
  {
   "cell_type": "code",
   "execution_count": 17,
   "metadata": {},
   "outputs": [
    {
     "name": "stdout",
     "output_type": "stream",
     "text": [
      "['10', '1st', '2nd', '3rd', '4th', '5th', 'amazing', 'amazon', 'amp', 'apple', 'august', 'awesome', 'best', 'better', 'big', 'birthday', 'boy', 'come', 'coming', 'concert', 'day', 'excited', 'fan', 'forward', 'free', 'friday', 'friend', 'fun', 'game', 'girl', 'going', 'gon', 'good', 'got', 'great', 'guy', 'haha', 'happy', 'hey', 'home', 'hope', 'im', 'jurassic', 'know', 'let', 'life', 'like', 'live', 'lol', 'look', 'looking', 'love', 'luck', 'make', 'man', 'march', 'meet', 'miss', 'monday', 'morning', 'movie', 'na', 'need', 'new', 'nice', 'night', 'november', 'october', 'oh', 'ok', 'park', 'party', 'people', 'place', 'play', 'pretty', 'ready', 'really', 'right', 'rt', 'sat', 'saturday', 'saw', 'say', 'school', 'season', 'september', 'song', 'start', 'sun', 'sunday', 'sure', 'team', 'thank', 'thanks', 'thing', 'think', 'thursday', 'ticket', 'time', 'today', 'tomorrow', 'tonight', 'tuesday', 'u002c', 'u2019m', 'u2019s', 'u2019t', 'wait', 'want', 'watch', 'watching', 'way', 'wednesday', 'week', 'weekend', 'win', 'wish', 'work', 'world', 'year', 'yes']\n"
     ]
    }
   ],
   "source": [
    "import pickle\n",
    "from sklearn.feature_extraction.text import CountVectorizer\n",
    "import pandas as pd\n",
    "\n",
    "with open('lemmatizedPositiveTweets.tsv', 'r', encoding=\"utf8\") as fileInput:\n",
    "    data = ''\n",
    "    for line in fileInput:\n",
    "        line = line.lower()\n",
    "        data += line\n",
    "    \n",
    "tweetList = data.splitlines()\n",
    "\n",
    "\n",
    "vectorizer = CountVectorizer(max_features = 200,stop_words='english',max_df=0.5,min_df=0.01)\n",
    "\n",
    "vectorizedTweetList = vectorizer.fit_transform(tweetList)\n",
    "print(vectorizer.get_feature_names())\n",
    "\n",
    "#df = pd.DataFrame(data = vectorizedTweetList.toarray(), columns = vectorizer.get_feature_names())\n",
    "#df.to_csv('positiveBagOfWords.csv',index=False)\n",
    "\n",
    "pickle_out = open('positiveBagOfWords.pickle','wb')\n",
    "pickle.dump(vectorizedTweetList.toarray(), pickle_out)"
   ]
  },
  {
   "cell_type": "markdown",
   "metadata": {},
   "source": [
    "TDIF (παρομοια διαδικασια με το bag of words)"
   ]
  },
  {
   "cell_type": "code",
   "execution_count": 21,
   "metadata": {},
   "outputs": [
    {
     "name": "stdout",
     "output_type": "stream",
     "text": [
      "[[0. 0. 0. ... 0. 0. 0.]\n",
      " [0. 0. 0. ... 0. 0. 0.]\n",
      " [0. 0. 0. ... 0. 0. 0.]\n",
      " ...\n",
      " [0. 0. 0. ... 0. 0. 0.]\n",
      " [0. 0. 0. ... 0. 0. 0.]\n",
      " [0. 0. 0. ... 0. 0. 0.]]\n"
     ]
    }
   ],
   "source": [
    "import pickle\n",
    "from sklearn.feature_extraction.text import TfidfVectorizer\n",
    "\n",
    "with open('lemmatizedNeutralTweets.tsv', 'r', encoding=\"utf8\") as fileInput:\n",
    "    data = ''\n",
    "    for line in fileInput:\n",
    "        line = line.lower()\n",
    "        data += line\n",
    "    \n",
    "tweetList = data.splitlines()\n",
    "\n",
    "tfidf_vectorizer = TfidfVectorizer(max_df=1.0, min_df=1, max_features=1000, stop_words='english') \n",
    "tfidf = tfidf_vectorizer.fit_transform(tweetList)\n",
    "print( tfidf.toarray())\n",
    "\n",
    "pickle_out = open('neutralTDIF.pickle','wb')\n",
    "pickle.dump(tfidf.toarray(), pickle_out)\n"
   ]
  },
  {
   "cell_type": "code",
   "execution_count": 22,
   "metadata": {},
   "outputs": [
    {
     "name": "stdout",
     "output_type": "stream",
     "text": [
      "[[0. 0. 0. ... 0. 0. 0.]\n",
      " [0. 0. 0. ... 0. 0. 0.]\n",
      " [0. 0. 0. ... 0. 0. 0.]\n",
      " ...\n",
      " [0. 0. 0. ... 0. 0. 0.]\n",
      " [0. 0. 0. ... 0. 0. 0.]\n",
      " [0. 0. 0. ... 0. 0. 0.]]\n"
     ]
    }
   ],
   "source": [
    "import pickle\n",
    "from sklearn.feature_extraction.text import TfidfVectorizer\n",
    "\n",
    "with open('lemmatizedPositiveTweets.tsv', 'r', encoding=\"utf8\") as fileInput:\n",
    "    data = ''\n",
    "    for line in fileInput:\n",
    "        line = line.lower()\n",
    "        data += line\n",
    "    \n",
    "tweetList = data.splitlines()\n",
    "\n",
    "tfidf_vectorizer = TfidfVectorizer(max_df=1.0, min_df=1, max_features=1000, stop_words='english') \n",
    "tfidf = tfidf_vectorizer.fit_transform(tweetList)\n",
    "print( tfidf.toarray())\n",
    "\n",
    "pickle_out = open('positiveTDIF.pickle','wb')\n",
    "pickle.dump(tfidf.toarray(), pickle_out)"
   ]
  },
  {
   "cell_type": "code",
   "execution_count": 23,
   "metadata": {},
   "outputs": [
    {
     "name": "stdout",
     "output_type": "stream",
     "text": [
      "[[0. 0. 0. ... 0. 0. 0.]\n",
      " [0. 0. 0. ... 0. 0. 0.]\n",
      " [0. 0. 0. ... 0. 0. 0.]\n",
      " ...\n",
      " [0. 0. 0. ... 0. 0. 0.]\n",
      " [0. 0. 0. ... 0. 0. 0.]\n",
      " [0. 0. 0. ... 0. 0. 0.]]\n"
     ]
    }
   ],
   "source": [
    "import pickle\n",
    "from sklearn.feature_extraction.text import TfidfVectorizer\n",
    "\n",
    "with open('lemmatizedNegativeTweets.tsv', 'r', encoding=\"utf8\") as fileInput:\n",
    "    data = ''\n",
    "    for line in fileInput:\n",
    "        line = line.lower()\n",
    "        data += line\n",
    "    \n",
    "tweetList = data.splitlines()\n",
    "\n",
    "tfidf_vectorizer = TfidfVectorizer(max_df=1.0, min_df=1, max_features=1000, stop_words='english') \n",
    "tfidf = tfidf_vectorizer.fit_transform(tweetList)\n",
    "print( tfidf.toarray())\n",
    "\n",
    "pickle_out = open('negativeTDIF.pickle','wb')\n",
    "pickle.dump(tfidf.toarray(), pickle_out)"
   ]
  },
  {
   "cell_type": "code",
   "execution_count": 27,
   "metadata": {},
   "outputs": [
    {
     "ename": "ModuleNotFoundError",
     "evalue": "No module named 'gensim'",
     "output_type": "error",
     "traceback": [
      "\u001b[0;31m---------------------------------------------------------------------------\u001b[0m",
      "\u001b[0;31mModuleNotFoundError\u001b[0m                       Traceback (most recent call last)",
      "\u001b[0;32m<ipython-input-27-b738495422d7>\u001b[0m in \u001b[0;36m<module>\u001b[0;34m\u001b[0m\n\u001b[1;32m      1\u001b[0m \u001b[0;32mfrom\u001b[0m \u001b[0mnltk\u001b[0m \u001b[0;32mimport\u001b[0m \u001b[0mword_tokenize\u001b[0m\u001b[0;34m\u001b[0m\u001b[0;34m\u001b[0m\u001b[0m\n\u001b[0;32m----> 2\u001b[0;31m \u001b[0;32mimport\u001b[0m \u001b[0mgensim\u001b[0m \u001b[0;32mas\u001b[0m \u001b[0mgensim\u001b[0m\u001b[0;34m\u001b[0m\u001b[0;34m\u001b[0m\u001b[0m\n\u001b[0m\u001b[1;32m      3\u001b[0m \u001b[0;34m\u001b[0m\u001b[0m\n\u001b[1;32m      4\u001b[0m \u001b[0;32mwith\u001b[0m \u001b[0mopen\u001b[0m\u001b[0;34m(\u001b[0m\u001b[0;34m'lemmatizedNeutralTweets.tsv'\u001b[0m\u001b[0;34m,\u001b[0m \u001b[0;34m'r'\u001b[0m\u001b[0;34m,\u001b[0m \u001b[0mencoding\u001b[0m\u001b[0;34m=\u001b[0m\u001b[0;34m\"utf8\"\u001b[0m\u001b[0;34m)\u001b[0m \u001b[0;32mas\u001b[0m \u001b[0mfileInput\u001b[0m\u001b[0;34m:\u001b[0m\u001b[0;34m\u001b[0m\u001b[0;34m\u001b[0m\u001b[0m\n\u001b[1;32m      5\u001b[0m     \u001b[0mdata\u001b[0m \u001b[0;34m=\u001b[0m \u001b[0;34m''\u001b[0m\u001b[0;34m\u001b[0m\u001b[0;34m\u001b[0m\u001b[0m\n",
      "\u001b[0;31mModuleNotFoundError\u001b[0m: No module named 'gensim'"
     ]
    }
   ],
   "source": [
    "from nltk import word_tokenize\n",
    "import gensim \n",
    "\n",
    "with open('lemmatizedNeutralTweets.tsv', 'r', encoding=\"utf8\") as fileInput:\n",
    "    data = ''\n",
    "    for line in fileInput:\n",
    "        line = line.lower()\n",
    "        data += line\n",
    "    \n",
    "tweetList = data.splitlines()\n",
    "\n",
    "neutralTweetList = []\n",
    "for tweet in tweetList:\n",
    "    neutralTweetList.append(word_tokenize(tweet))\n",
    "\n",
    "\n",
    "model_w2v = gensim.models.Word2Vec(\n",
    "            tokenized_tweet,\n",
    "            size=50, # desired no. of features/independent variables\n",
    "            window=5, # context window size\n",
    "            min_count=2,\n",
    "            sg = 1, # 1 for skip-gram model\n",
    "            hs = 0,\n",
    "            negative = 10, # for negative sampling\n",
    "            workers= 2, # no.of cores\n",
    "            seed = 34) \n",
    "\n",
    "for tokenized_tweet in neutralTweetList:\n",
    "    model_w2v.train(tokenized_tweet, total_examples= len(neutralTweetList), epochs=20)\n"
   ]
  },
  {
   "cell_type": "code",
   "execution_count": null,
   "metadata": {},
   "outputs": [],
   "source": []
  }
 ],
 "metadata": {
  "kernelspec": {
   "display_name": "Python 3",
   "language": "python",
   "name": "python3"
  },
  "language_info": {
   "codemirror_mode": {
    "name": "ipython",
    "version": 3
   },
   "file_extension": ".py",
   "mimetype": "text/x-python",
   "name": "python",
   "nbconvert_exporter": "python",
   "pygments_lexer": "ipython3",
   "version": "3.7.3"
  }
 },
 "nbformat": 4,
 "nbformat_minor": 2
}
