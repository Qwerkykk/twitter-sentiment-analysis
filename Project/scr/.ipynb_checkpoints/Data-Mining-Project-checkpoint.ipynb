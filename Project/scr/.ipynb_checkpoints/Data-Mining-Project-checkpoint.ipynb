{
 "cells": [
  {
   "cell_type": "markdown",
   "metadata": {},
   "source": [
    "Αρχικά επειδή τα εργαλεία που θα χρησιμοποιήσουμε ειναι case sensitive θα μετατρέψουμε το training set μας σε lowercase"
   ]
  },
  {
   "cell_type": "code",
   "execution_count": 1,
   "metadata": {
    "scrolled": false
   },
   "outputs": [],
   "source": [
    "with open('../twitter_data/train2017.tsv', 'r', encoding=\"utf8\") as fileInput:\n",
    "#with open('test.tsv', 'r', encoding=\"utf8\") as fileInput:\n",
    "    text = ''\n",
    "    for line in fileInput:\n",
    "        line = line.lower()\n",
    "        text += line\n",
    "    #print(text)\n"
   ]
  },
  {
   "cell_type": "markdown",
   "metadata": {},
   "source": [
    "Aφαίρεση των URL"
   ]
  },
  {
   "cell_type": "code",
   "execution_count": 2,
   "metadata": {},
   "outputs": [],
   "source": [
    "import re\n",
    "text = re.sub(r'''(?i)\\b((?:https?://|www\\d{0,3}[.]|[a-z0-9.\\-]+[.][a-z]{2,4}/)(?:[^\\s()<>]+|\\(([^\\s()<>]+|(\\([^\\s()<>]+\\)))*\\))+(?:\\(([^\\s()<>]+|(\\([^\\s()<>]+\\)))*\\)|[^\\s`!()\\[\\]{};:'\".,<>?«»“”‘’]))''', ' ! ', text)\n",
    "text = text.replace('can\\'t',' cant ')\n",
    "text = text.replace(' u ', ' you ')"
   ]
  },
  {
   "cell_type": "markdown",
   "metadata": {},
   "source": [
    "Σπάσιμο κειμένου σε tweet για να επεξεργαστούμε το καθένα ξεχωριστά"
   ]
  },
  {
   "cell_type": "code",
   "execution_count": 3,
   "metadata": {},
   "outputs": [],
   "source": [
    "tweetList = text.splitlines()\n",
    "#print(tweetList)"
   ]
  },
  {
   "cell_type": "markdown",
   "metadata": {},
   "source": [
    "Σπάσιμο tweet σε λέξεις"
   ]
  },
  {
   "cell_type": "code",
   "execution_count": null,
   "metadata": {},
   "outputs": [],
   "source": [
    "from nltk import word_tokenize\n",
    "tokenedTweetList = []\n",
    "for tweet in tweetList:\n",
    "    tokenedTweetList.append(word_tokenize(tweet))\n",
    "#print(tokenedTweetList)"
   ]
  },
  {
   "cell_type": "markdown",
   "metadata": {},
   "source": [
    "Αφαίρεση των tags"
   ]
  },
  {
   "cell_type": "code",
   "execution_count": null,
   "metadata": {
    "scrolled": true
   },
   "outputs": [],
   "source": [
    "for tweet in tokenedTweetList:\n",
    "    for word in tweet:\n",
    "        if word == '@':\n",
    "            tweet.remove(tweet[tweet.index(word)+1])\n",
    "            tweet.remove(tweet[tweet.index(word)])\n",
    "#print(tokenedTweetList)"
   ]
  },
  {
   "cell_type": "markdown",
   "metadata": {},
   "source": [
    "Καθάρισμα σημείων στήξεως"
   ]
  },
  {
   "cell_type": "code",
   "execution_count": null,
   "metadata": {
    "scrolled": false
   },
   "outputs": [],
   "source": [
    "from string import punctuation\n",
    "clearedTweetList = []\n",
    "for tweet in tokenedTweetList:\n",
    "    for word in tweet:\n",
    "        tokenedTweetList[tokenedTweetList.index(tweet)][tweet.index(word)] = word.strip(punctuation)\n",
    "#print(tokenedTweetList)\n"
   ]
  },
  {
   "cell_type": "markdown",
   "metadata": {},
   "source": [
    "Καθάρισμα απο stopwords και κενα tokens"
   ]
  },
  {
   "cell_type": "code",
   "execution_count": null,
   "metadata": {
    "scrolled": false
   },
   "outputs": [],
   "source": [
    "from nltk.corpus import stopwords\n",
    "\n",
    "cleanedTweetList = []\n",
    "\n",
    "for tweet in tokenedTweetList:\n",
    "    cleanedTweet = []\n",
    "    for word in tweet:\n",
    "        if word not in stopwords.words('english') and word != '':\n",
    "            cleanedTweet.append(word);\n",
    "    cleanedTweetList.append(cleanedTweet)\n",
    "#print(cleanedTweetList)"
   ]
  },
  {
   "cell_type": "code",
   "execution_count": null,
   "metadata": {},
   "outputs": [],
   "source": [
    "file = open('filteredTweets.tsv', 'w', encoding=\"utf8\")\n",
    "\n",
    "for tweet in cleanedTweetList:\n",
    "    for word in tweet:\n",
    "        file.write(word + ' ')\n",
    "    file.write('\\n')\n",
    "file.close()"
   ]
  },
  {
   "cell_type": "markdown",
   "metadata": {},
   "source": [
    "Θα διαχωρήσουμε τα positive/negative/neutral tweets σε διαφορετικά αρχεία για μα διευκολήνουμε την επεξεργασία τους"
   ]
  },
  {
   "cell_type": "code",
   "execution_count": null,
   "metadata": {},
   "outputs": [],
   "source": [
    "file = open('positiveTweets.tsv', 'w', encoding=\"utf8\")\n",
    "\n",
    "for tweet in cleanedTweetList:\n",
    "    if tweet[2] == 'positive':\n",
    "        for word in tweet[3:]:\n",
    "            file.write(word + ' ')\n",
    "        file.write('\\n')\n",
    "file.close()\n",
    "\n",
    "file = open('negativeTweets.tsv', 'w', encoding=\"utf8\")\n",
    "\n",
    "for tweet in cleanedTweetList:\n",
    "    if tweet[2] == 'negative':\n",
    "        for word in tweet[3:]:\n",
    "            file.write(word + ' ')\n",
    "        file.write('\\n')\n",
    "file.close()\n",
    "\n",
    "file = open('neutralTweets.tsv', 'w', encoding=\"utf8\")\n",
    "\n",
    "for tweet in cleanedTweetList:\n",
    "    if tweet[2] == 'neutral':\n",
    "        for word in tweet[3:]:\n",
    "            file.write(word + ' ')\n",
    "        file.write('\\n')\n",
    "file.close()\n"
   ]
  },
  {
   "cell_type": "markdown",
   "metadata": {},
   "source": [
    " Οι 50 πιο συχνά χρησιμοποιημένες λέξεις στα θετικά tweets"
   ]
  },
  {
   "cell_type": "code",
   "execution_count": null,
   "metadata": {},
   "outputs": [],
   "source": [
    "from collections import Counter\n",
    "import pandas as pd \n",
    "from nltk import word_tokenize\n",
    "\n",
    "with open('positiveTweets.tsv', 'r', encoding=\"utf8\") as fileInput:\n",
    "    data = ''\n",
    "    for line in fileInput:\n",
    "        line = line.lower()\n",
    "        data += line\n",
    "    \n",
    "tweetList = data.splitlines()\n",
    "\n",
    "positiveTweetList = []\n",
    "for tweet in tweetList:\n",
    "    positiveTweetList.append(word_tokenize(tweet))\n",
    "\n",
    "count = Counter(' ')\n",
    "for tweet in positiveTweetList:\n",
    "    count +=  Counter(tweet)\n",
    "    \n",
    "dataFrame = pd.DataFrame(data =count.most_common(50), columns=['Word', 'Count'])\n",
    "dataFrame"
   ]
  },
  {
   "cell_type": "markdown",
   "metadata": {},
   "source": [
    "Για την δημιουργία του Word Cloud θα χρησιμοποιησουμε το παρακάτω πακέτο(https://anaconda.org/conda-forge/wordcloud)"
   ]
  },
  {
   "cell_type": "markdown",
   "metadata": {},
   "source": [
    "Oι 50 πιο συχνά χρησιμοποιημένες λέξεις για τα αρνητικά tweets"
   ]
  },
  {
   "cell_type": "code",
   "execution_count": null,
   "metadata": {},
   "outputs": [],
   "source": [
    "from collections import Counter\n",
    "\n",
    "with open('negativeTweets.tsv', 'r', encoding=\"utf8\") as fileInput:\n",
    "    data = ''\n",
    "    for line in fileInput:\n",
    "        line = line.lower()\n",
    "        data += line\n",
    "    \n",
    "tweetList = data.splitlines()\n",
    "\n",
    "negativeTweetList = []\n",
    "for tweet in tweetList:\n",
    "    negativeTweetList.append(word_tokenize(tweet))\n",
    "\n",
    "count = Counter(' ')\n",
    "for tweet in negativeTweetList:\n",
    "    count +=  Counter(tweet)\n",
    "    \n",
    "dataFrame = pd.DataFrame(data =count.most_common(20), columns=['Word', 'Count'])\n",
    "dataFrame"
   ]
  },
  {
   "cell_type": "markdown",
   "metadata": {},
   "source": [
    "Οι 50 πιο συχνά χρησιμοποιημένες λέξεις για τα ουδέτερα tweets"
   ]
  },
  {
   "cell_type": "code",
   "execution_count": null,
   "metadata": {},
   "outputs": [],
   "source": [
    "from collections import Counter\n",
    "\n",
    "with open('neutralTweets.tsv', 'r', encoding=\"utf8\") as fileInput:\n",
    "    data = ''\n",
    "    for line in fileInput:\n",
    "        line = line.lower()\n",
    "        data += line\n",
    "    \n",
    "tweetList = data.splitlines()\n",
    "\n",
    "neutralTweetList = []\n",
    "for tweet in tweetList:\n",
    "    neutralTweetList.append(word_tokenize(tweet))\n",
    "\n",
    "count = Counter(' ')\n",
    "for tweet in neutralTweetList:\n",
    "    count +=  Counter(tweet)\n",
    "\n",
    "dataFrame = pd.DataFrame(data =count.most_common(20), columns=['Word', 'Count'])\n",
    "dataFrame"
   ]
  },
  {
   "cell_type": "markdown",
   "metadata": {},
   "source": [
    "    Positive Tweets Word Cloud"
   ]
  },
  {
   "cell_type": "code",
   "execution_count": null,
   "metadata": {
    "scrolled": true
   },
   "outputs": [],
   "source": [
    "from wordcloud import WordCloud, STOPWORDS\n",
    "import matplotlib.pyplot as plt \n",
    "import pandas as pd \n",
    "from nltk import word_tokenize\n",
    "\n",
    "positiveText = ''\n",
    "for tweet in positiveTweetList:\n",
    "    for word in tweet:\n",
    "        positiveText = positiveText + word + ' '\n",
    "\n",
    "wordcloud = WordCloud(width = 800, height = 800, \n",
    "                background_color ='white',\n",
    "                stopwords = set(STOPWORDS),\n",
    "                min_font_size = 20).generate(positiveText)\n",
    "plt.figure(figsize = (8, 8), facecolor = None) \n",
    "plt.imshow(wordcloud) \n",
    "plt.axis(\"off\") \n",
    "plt.tight_layout(pad = 0) \n",
    "  \n",
    "plt.show()"
   ]
  },
  {
   "cell_type": "markdown",
   "metadata": {},
   "source": [
    "    Negative Tweets Word Cloud"
   ]
  },
  {
   "cell_type": "code",
   "execution_count": null,
   "metadata": {},
   "outputs": [],
   "source": [
    "negativeText = ''\n",
    "for tweet in negativeTweetList:\n",
    "    for word in tweet:\n",
    "        negativeText = negativeText + word + ' '\n",
    "\n",
    "wordcloud = WordCloud(width = 800, height = 800, \n",
    "                background_color ='white',\n",
    "                stopwords = set(STOPWORDS),\n",
    "                min_font_size = 20).generate(negativeText)\n",
    "plt.figure(figsize = (8, 8), facecolor = None) \n",
    "plt.imshow(wordcloud) \n",
    "plt.axis(\"off\") \n",
    "plt.tight_layout(pad = 0) \n",
    "  \n",
    "plt.show()"
   ]
  },
  {
   "cell_type": "markdown",
   "metadata": {},
   "source": [
    "    Neutral Tweets Word Cloud"
   ]
  },
  {
   "cell_type": "code",
   "execution_count": null,
   "metadata": {
    "scrolled": true
   },
   "outputs": [],
   "source": [
    "neutralText = ''\n",
    "for tweet in neutralTweetList:\n",
    "    for word in tweet:\n",
    "        neutralText = neutralText + word + ' '\n",
    "\n",
    "wordcloud = WordCloud(width = 800, height = 800, \n",
    "                background_color ='white',\n",
    "                stopwords = set(STOPWORDS),\n",
    "                min_font_size = 20).generate(neutralText)\n",
    "plt.figure(figsize = (8, 8), facecolor = None) \n",
    "plt.imshow(wordcloud) \n",
    "plt.axis(\"off\") \n",
    "plt.tight_layout(pad = 0) \n",
    "  \n",
    "plt.show()"
   ]
  },
  {
   "cell_type": "code",
   "execution_count": null,
   "metadata": {},
   "outputs": [],
   "source": []
  },
  {
   "cell_type": "code",
   "execution_count": null,
   "metadata": {},
   "outputs": [],
   "source": []
  },
  {
   "cell_type": "code",
   "execution_count": null,
   "metadata": {},
   "outputs": [],
   "source": []
  }
 ],
 "metadata": {
  "kernelspec": {
   "display_name": "Python 3",
   "language": "python",
   "name": "python3"
  },
  "language_info": {
   "codemirror_mode": {
    "name": "ipython",
    "version": 3
   },
   "file_extension": ".py",
   "mimetype": "text/x-python",
   "name": "python",
   "nbconvert_exporter": "python",
   "pygments_lexer": "ipython3",
   "version": "3.7.3"
  }
 },
 "nbformat": 4,
 "nbformat_minor": 2
}
