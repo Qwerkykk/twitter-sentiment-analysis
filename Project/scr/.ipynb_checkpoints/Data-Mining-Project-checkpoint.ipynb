{
 "cells": [
  {
   "cell_type": "markdown",
   "metadata": {},
   "source": [
    "Αρχικά επειδή τα εργαλεία που θα χρησιμοποιήσουμε ειναι case sensitive θα μετατρέψουμε το training set μας σε lowercase"
   ]
  },
  {
   "cell_type": "code",
   "execution_count": null,
   "metadata": {
    "scrolled": false
   },
   "outputs": [],
   "source": [
    "with open('../twitter_data/train2017.tsv', 'r', encoding=\"utf8\") as fileInput:\n",
    "#with open('test.tsv', 'r', encoding=\"utf8\") as fileInput:\n",
    "    text = ''\n",
    "    for line in fileInput:\n",
    "        line = line.lower()\n",
    "        text += line\n",
    "    #print(text)\n"
   ]
  },
  {
   "cell_type": "markdown",
   "metadata": {},
   "source": [
    "Aφαίρεση των URL"
   ]
  },
  {
   "cell_type": "code",
   "execution_count": null,
   "metadata": {},
   "outputs": [],
   "source": [
    "import re\n",
    "text = re.sub(r'''(?i)\\b((?:https?://|www\\d{0,3}[.]|[a-z0-9.\\-]+[.][a-z]{2,4}/)(?:[^\\s()<>]+|\\(([^\\s()<>]+|(\\([^\\s()<>]+\\)))*\\))+(?:\\(([^\\s()<>]+|(\\([^\\s()<>]+\\)))*\\)|[^\\s`!()\\[\\]{};:'\".,<>?«»“”‘’]))''', ' ! ', text)\n",
    "text = text.replace('can\\'t',' cant ')\n",
    "text = text.replace(' u ', ' you ')"
   ]
  },
  {
   "cell_type": "markdown",
   "metadata": {},
   "source": [
    "Σπάσιμο κειμένου σε tweet για να επεξεργαστούμε το καθένα ξεχωριστά"
   ]
  },
  {
   "cell_type": "code",
   "execution_count": null,
   "metadata": {},
   "outputs": [],
   "source": [
    "tweetList = text.splitlines()\n",
    "#print(tweetList)"
   ]
  },
  {
   "cell_type": "markdown",
   "metadata": {},
   "source": [
    "Σπάσιμο tweet σε λέξεις"
   ]
  },
  {
   "cell_type": "code",
   "execution_count": null,
   "metadata": {},
   "outputs": [],
   "source": [
    "from nltk import word_tokenize\n",
    "tokenedTweetList = []\n",
    "for tweet in tweetList:\n",
    "    tokenedTweetList.append(word_tokenize(tweet))\n",
    "#print(tokenedTweetList)"
   ]
  },
  {
   "cell_type": "markdown",
   "metadata": {},
   "source": [
    "Αφαίρεση των tags"
   ]
  },
  {
   "cell_type": "code",
   "execution_count": null,
   "metadata": {
    "scrolled": true
   },
   "outputs": [],
   "source": [
    "for tweet in tokenedTweetList:\n",
    "    for word in tweet:\n",
    "        if word == '@':\n",
    "            tweet.remove(tweet[tweet.index(word)+1])\n",
    "            tweet.remove(tweet[tweet.index(word)])\n",
    "#print(tokenedTweetList)"
   ]
  },
  {
   "cell_type": "markdown",
   "metadata": {},
   "source": [
    "Καθάρισμα σημείων στήξεως"
   ]
  },
  {
   "cell_type": "code",
   "execution_count": null,
   "metadata": {
    "scrolled": false
   },
   "outputs": [],
   "source": [
    "from string import punctuation\n",
    "clearedTweetList = []\n",
    "for tweet in tokenedTweetList:\n",
    "    for word in tweet:\n",
    "        tokenedTweetList[tokenedTweetList.index(tweet)][tweet.index(word)] = word.strip(punctuation)\n",
    "#print(tokenedTweetList)\n"
   ]
  },
  {
   "cell_type": "markdown",
   "metadata": {},
   "source": [
    "Καθάρισμα απο stopwords και κενα tokens"
   ]
  },
  {
   "cell_type": "code",
   "execution_count": null,
   "metadata": {
    "scrolled": false
   },
   "outputs": [],
   "source": [
    "from nltk.corpus import stopwords\n",
    "\n",
    "cleanedTweetList = []\n",
    "\n",
    "for tweet in tokenedTweetList:\n",
    "    cleanedTweet = []\n",
    "    for word in tweet:\n",
    "        if word not in stopwords.words('english') and word != '':\n",
    "            cleanedTweet.append(word);\n",
    "    cleanedTweetList.append(cleanedTweet)\n",
    "#print(cleanedTweetList)"
   ]
  },
  {
   "cell_type": "code",
   "execution_count": null,
   "metadata": {},
   "outputs": [],
   "source": [
    "file = open('filteredTweets.tsv', 'w', encoding=\"utf8\")\n",
    "\n",
    "for tweet in cleanedTweetList:\n",
    "    for word in tweet:\n",
    "        file.write(word + ' ')\n",
    "    file.write('\\n')\n",
    "file.close()"
   ]
  },
  {
   "cell_type": "markdown",
   "metadata": {},
   "source": [
    "Θα διαχωρήσουμε τα positive/negative/neutral tweets σε διαφορετικά αρχεία για μα διευκολήνουμε την επεξεργασία τους"
   ]
  },
  {
   "cell_type": "code",
   "execution_count": null,
   "metadata": {},
   "outputs": [],
   "source": [
    "file = open('positiveTweets.tsv', 'w', encoding=\"utf8\")\n",
    "\n",
    "for tweet in cleanedTweetList:\n",
    "    if tweet[2] == 'positive':\n",
    "        for word in tweet[3:]:\n",
    "            file.write(word + ' ')\n",
    "        file.write('\\n')\n",
    "file.close()\n",
    "\n",
    "file = open('negativeTweets.tsv', 'w', encoding=\"utf8\")\n",
    "\n",
    "for tweet in cleanedTweetList:\n",
    "    if tweet[2] == 'negative':\n",
    "        for word in tweet[3:]:\n",
    "            file.write(word + ' ')\n",
    "        file.write('\\n')\n",
    "file.close()\n",
    "\n",
    "file = open('neutralTweets.tsv', 'w', encoding=\"utf8\")\n",
    "\n",
    "for tweet in cleanedTweetList:\n",
    "    if tweet[2] == 'neutral':\n",
    "        for word in tweet[3:]:\n",
    "            file.write(word + ' ')\n",
    "        file.write('\\n')\n",
    "file.close()\n"
   ]
  },
  {
   "cell_type": "markdown",
   "metadata": {},
   "source": [
    "Lemmatized εκδοσεις των παραπάνων αρχείων που θα χρησιμοποιηθούν για ακριβέστερα αποτελέσματα στα dataframes/WordClouds"
   ]
  },
  {
   "cell_type": "code",
   "execution_count": null,
   "metadata": {},
   "outputs": [],
   "source": [
    "\n",
    "from nltk.stem import  WordNetLemmatizer\n",
    "lemmatizer = WordNetLemmatizer()\n",
    "\n",
    "lemmatized_output = []\n",
    "for tweet in cleanedTweetList:\n",
    "    lemmatized_output.append([lemmatizer.lemmatize(word) for word in tweet])\n",
    "\n",
    "\n",
    "file = open('lemmatizedPositiveTweets.tsv', 'w', encoding=\"utf8\")\n",
    "\n",
    "for tweet in lemmatized_output:\n",
    "    if tweet[2] == 'positive':\n",
    "        for word in tweet[3:]:\n",
    "            file.write(word + ' ')\n",
    "        file.write('\\n')\n",
    "file.close()\n",
    "\n",
    "file = open('lemmatizedNegativeTweets.tsv', 'w', encoding=\"utf8\")\n",
    "\n",
    "for tweet in lemmatized_output:\n",
    "    if tweet[2] == 'negative':\n",
    "        for word in tweet[3:]:\n",
    "            file.write(word + ' ')\n",
    "        file.write('\\n')\n",
    "file.close()\n",
    "\n",
    "file = open('lemmatizedNeutralTweets.tsv', 'w', encoding=\"utf8\")\n",
    "\n",
    "for tweet in lemmatized_output:\n",
    "    if tweet[2] == 'neutral':\n",
    "        for word in tweet[3:]:\n",
    "            file.write(word + ' ')\n",
    "        file.write('\\n')\n",
    "file.close()"
   ]
  },
  {
   "cell_type": "markdown",
   "metadata": {},
   "source": [
    " Οι 50 πιο συχνά χρησιμοποιημένες λέξεις στα θετικά tweets"
   ]
  },
  {
   "cell_type": "code",
   "execution_count": null,
   "metadata": {},
   "outputs": [],
   "source": [
    "from collections import Counter\n",
    "import pandas as pd \n",
    "from nltk import word_tokenize\n",
    "\n",
    "with open('lemmatizedPositiveTweets.tsv', 'r', encoding=\"utf8\") as fileInput:\n",
    "    data = ''\n",
    "    for line in fileInput:\n",
    "        line = line.lower()\n",
    "        data += line\n",
    "    \n",
    "tweetList = data.splitlines()\n",
    "\n",
    "positiveTweetList = []\n",
    "for tweet in tweetList:\n",
    "    positiveTweetList.append(word_tokenize(tweet))\n",
    "\n",
    "count = Counter(' ')\n",
    "for tweet in positiveTweetList:\n",
    "    count +=  Counter(tweet)\n",
    "    \n",
    "dataFrame = pd.DataFrame(data =count.most_common(50), columns=['Word', 'Count'])\n",
    "dataFrame"
   ]
  },
  {
   "cell_type": "markdown",
   "metadata": {},
   "source": [
    "Για την δημιουργία του Word Cloud θα χρησιμοποιησουμε το παρακάτω πακέτο(https://anaconda.org/conda-forge/wordcloud)"
   ]
  },
  {
   "cell_type": "markdown",
   "metadata": {},
   "source": [
    "Oι 50 πιο συχνά χρησιμοποιημένες λέξεις για τα αρνητικά tweets"
   ]
  },
  {
   "cell_type": "code",
   "execution_count": null,
   "metadata": {},
   "outputs": [],
   "source": [
    "from collections import Counter\n",
    "\n",
    "with open('lemmatizedNegativeTweets.tsv', 'r', encoding=\"utf8\") as fileInput:\n",
    "    data = ''\n",
    "    for line in fileInput:\n",
    "        line = line.lower()\n",
    "        data += line\n",
    "    \n",
    "tweetList = data.splitlines()\n",
    "\n",
    "negativeTweetList = []\n",
    "for tweet in tweetList:\n",
    "    negativeTweetList.append(word_tokenize(tweet))\n",
    "\n",
    "count = Counter(' ')\n",
    "for tweet in negativeTweetList:\n",
    "    count +=  Counter(tweet)\n",
    "    \n",
    "dataFrame = pd.DataFrame(data =count.most_common(50), columns=['Word', 'Count'])\n",
    "dataFrame"
   ]
  },
  {
   "cell_type": "markdown",
   "metadata": {},
   "source": [
    "Οι 50 πιο συχνά χρησιμοποιημένες λέξεις για τα ουδέτερα tweets"
   ]
  },
  {
   "cell_type": "code",
   "execution_count": null,
   "metadata": {},
   "outputs": [],
   "source": [
    "from collections import Counter\n",
    "\n",
    "with open('lemmatizedNeutralTweets.tsv', 'r', encoding=\"utf8\") as fileInput:\n",
    "    data = ''\n",
    "    for line in fileInput:\n",
    "        line = line.lower()\n",
    "        data += line\n",
    "    \n",
    "tweetList = data.splitlines()\n",
    "\n",
    "neutralTweetList = []\n",
    "for tweet in tweetList:\n",
    "    neutralTweetList.append(word_tokenize(tweet))\n",
    "\n",
    "count = Counter(' ')\n",
    "for tweet in neutralTweetList:\n",
    "    count +=  Counter(tweet)\n",
    "\n",
    "dataFrame = pd.DataFrame(data =count.most_common(50), columns=['Word', 'Count'])\n",
    "dataFrame"
   ]
  },
  {
   "cell_type": "markdown",
   "metadata": {},
   "source": [
    "    Positive Tweets Word Cloud"
   ]
  },
  {
   "cell_type": "code",
   "execution_count": null,
   "metadata": {
    "scrolled": true
   },
   "outputs": [],
   "source": [
    "from wordcloud import WordCloud, STOPWORDS\n",
    "import matplotlib.pyplot as plt \n",
    "import pandas as pd \n",
    "from nltk import word_tokenize\n",
    "\n",
    "positiveText = ''\n",
    "for tweet in positiveTweetList:\n",
    "    for word in tweet:\n",
    "        positiveText = positiveText + word + ' '\n",
    "\n",
    "wordcloud = WordCloud(width = 1200, height = 1200, \n",
    "                background_color ='white',\n",
    "                stopwords = set(STOPWORDS),\n",
    "                min_font_size = 14).generate(positiveText)\n",
    "plt.figure(figsize = (8, 8), facecolor = None) \n",
    "plt.imshow(wordcloud) \n",
    "plt.axis(\"off\") \n",
    "plt.tight_layout(pad = 0) \n",
    "  \n",
    "plt.show()"
   ]
  },
  {
   "cell_type": "markdown",
   "metadata": {},
   "source": [
    "    Negative Tweets Word Cloud"
   ]
  },
  {
   "cell_type": "code",
   "execution_count": null,
   "metadata": {},
   "outputs": [],
   "source": [
    "negativeText = ''\n",
    "for tweet in negativeTweetList:\n",
    "    for word in tweet:\n",
    "        negativeText = negativeText + word + ' '\n",
    "\n",
    "wordcloud = WordCloud(width = 1200, height = 1200, \n",
    "                background_color ='white',\n",
    "                stopwords = set(STOPWORDS),\n",
    "                min_font_size = 14).generate(negativeText)\n",
    "plt.figure(figsize = (8, 8), facecolor = None) \n",
    "plt.imshow(wordcloud) \n",
    "plt.axis(\"off\") \n",
    "plt.tight_layout(pad = 0) \n",
    "  \n",
    "plt.show()"
   ]
  },
  {
   "cell_type": "markdown",
   "metadata": {},
   "source": [
    "    Neutral Tweets Word Cloud"
   ]
  },
  {
   "cell_type": "code",
   "execution_count": null,
   "metadata": {
    "scrolled": true
   },
   "outputs": [],
   "source": [
    "neutralText = ''\n",
    "for tweet in neutralTweetList:\n",
    "    for word in tweet:\n",
    "        neutralText = neutralText + word + ' '\n",
    "\n",
    "wordcloud = WordCloud(width = 1200, height = 1200, \n",
    "                background_color ='white',\n",
    "                stopwords = set(STOPWORDS),\n",
    "                min_font_size = 14).generate(neutralText)\n",
    "plt.figure(figsize = (8, 8), facecolor = None) \n",
    "plt.imshow(wordcloud) \n",
    "plt.axis(\"off\") \n",
    "plt.tight_layout(pad = 0) \n",
    "  \n",
    "plt.show()"
   ]
  },
  {
   "cell_type": "markdown",
   "metadata": {},
   "source": [
    "Stemmed εκδοση των positive/negative/neutral files "
   ]
  },
  {
   "cell_type": "code",
   "execution_count": null,
   "metadata": {},
   "outputs": [],
   "source": [
    "from nltk.stem import PorterStemmer\n",
    "\n",
    "stemmer = PorterStemmer()\n",
    "stemmedTweetList = []\n",
    "for tokens in cleanedTweetList:\n",
    "    stemmedTweetList.append([stemmer.stem(token) for token in tokens ])\n",
    "    \n",
    "file = open('stemmedPositiveTweets.tsv', 'w', encoding=\"utf8\")\n",
    "\n",
    "for tweet in stemmedTweetList:\n",
    "    if tweet[2] == 'positive':\n",
    "        for word in tweet[3:]:\n",
    "            file.write(word + ' ')\n",
    "        file.write('\\n')\n",
    "file.close()\n",
    "\n",
    "file = open('stemmedNegativeTweets.tsv', 'w', encoding=\"utf8\")\n",
    "\n",
    "for tweet in stemmedTweetList:\n",
    "    if tweet[2] == 'negative':\n",
    "        for word in tweet[3:]:\n",
    "            file.write(word + ' ')\n",
    "        file.write('\\n')\n",
    "file.close()\n",
    "\n",
    "file = open('stemmedNeutralTweets.tsv', 'w', encoding=\"utf8\")\n",
    "\n",
    "for tweet in stemmedTweetList:\n",
    "    if tweet[2] == 'neutral':\n",
    "        for word in tweet[3:]:\n",
    "            file.write(word + ' ')\n",
    "        file.write('\\n')\n",
    "file.close()\n"
   ]
  },
  {
   "cell_type": "markdown",
   "metadata": {},
   "source": [
    "Δημιουργία Bag-of-word και αποθήκευση σε csv"
   ]
  },
  {
   "cell_type": "code",
   "execution_count": null,
   "metadata": {},
   "outputs": [],
   "source": [
    "import pickle\n",
    "from sklearn.feature_extraction.text import CountVectorizer\n",
    "import pandas as pd\n",
    "\n",
    "with open('lemmatizedNeutralTweets.tsv', 'r', encoding=\"utf8\") as fileInput:\n",
    "    data = ''\n",
    "    for line in fileInput:\n",
    "        line = line.lower()\n",
    "        data += line\n",
    "    \n",
    "tweetList = data.splitlines()\n",
    "\n",
    "'''\n",
    "max_df = 0.50 means \"ignore terms that appear in more than 50% of the documents\".\n",
    "max_df = 25 means \"ignore terms that appear in more than 25 documents\".\n",
    "The default max_df is 1.0, which means \"ignore terms that appear in more than 100% of the documents\". Thus, the default setting does not ignore any terms\n",
    "min_df = 0.01 means \"ignore terms that appear in less than 1% of the documents\".\n",
    "min_df = 5 means \"ignore terms that appear in less than 5 documents\"\n",
    "The default min_df is 1, which means \"ignore terms that appear in less than 1 document\". Thus, the default setting does not ignore any terms.\n",
    "'''\n",
    "\n",
    "vectorizer = CountVectorizer(max_features = 200,stop_words='english',max_df=0.5,min_df=0.01)\n",
    "\n",
    "vectorizedTweetList = vectorizer.fit_transform(tweetList)\n",
    "print(vectorizer.get_feature_names())\n",
    "\n",
    "\n",
    "\n",
    "df = pd.DataFrame(data = vectorizedTweetList.toarray(), columns = vectorizer.get_feature_names())\n",
    "df.to_csv('neutralBagOfWords.csv',index=False)\n",
    "df"
   ]
  },
  {
   "cell_type": "code",
   "execution_count": null,
   "metadata": {},
   "outputs": [],
   "source": [
    "import pickle\n",
    "import pandas as pd\n",
    "from sklearn.feature_extraction.text import CountVectorizer\n",
    "\n",
    "with open('lemmatizedNegativeTweets.tsv', 'r', encoding=\"utf8\") as fileInput:\n",
    "    data = ''\n",
    "    for line in fileInput:\n",
    "        line = line.lower()\n",
    "        data += line\n",
    "    \n",
    "tweetList = data.splitlines()\n",
    "\n",
    "from sklearn.feature_extraction.text import CountVectorizer\n",
    "vectorizer = CountVectorizer(max_features = 200,stop_words='english',max_df=0.5,min_df=0.01)\n",
    "\n",
    "vectorizedTweetList = vectorizer.fit_transform(tweetList)\n",
    "print(vectorizer.get_feature_names())\n",
    "\n",
    "\n",
    "\n",
    "df = pd.DataFrame(data = vectorizedTweetList.toarray(), columns = vectorizer.get_feature_names())\n",
    "df.to_csv('negativeBagOfWords.csv',index=False)\n",
    "df"
   ]
  },
  {
   "cell_type": "code",
   "execution_count": null,
   "metadata": {},
   "outputs": [],
   "source": [
    "import pickle\n",
    "from sklearn.feature_extraction.text import CountVectorizer\n",
    "import pandas as pd\n",
    "\n",
    "with open('lemmatizedPositiveTweets.tsv', 'r', encoding=\"utf8\") as fileInput:\n",
    "    data = ''\n",
    "    for line in fileInput:\n",
    "        line = line.lower()\n",
    "        data += line\n",
    "    \n",
    "tweetList = data.splitlines()\n",
    "\n",
    "\n",
    "vectorizer = CountVectorizer(max_features = 200,stop_words='english',max_df=0.5,min_df=0.01)\n",
    "\n",
    "vectorizedTweetList = vectorizer.fit_transform(tweetList)\n",
    "print(vectorizer.get_feature_names())\n",
    "\n",
    "df = pd.DataFrame(data = vectorizedTweetList.toarray(), columns = vectorizer.get_feature_names())\n",
    "df.to_csv('positiveBagOfWords.csv',index=False)\n",
    "df"
   ]
  },
  {
   "cell_type": "code",
   "execution_count": 2,
   "metadata": {},
   "outputs": [
    {
     "name": "stdout",
     "output_type": "stream",
     "text": [
      "['10', '1st', '2nd', '30', '3rd', '4th', '5th', 'amazon', 'amp', 'apple', 'best', 'better', 'big', 'birthday', 'black', 'check', 'come', 'coming', 'david', 'day', 'did', 'don', 'excited', 'free', 'friday', 'game', 'going', 'gonna', 'good', 'got', 'great', 'happy', 'hey', 'home', 'hope', 'http', 'https', 'im', 'just', 'know', 'let', 'like', 'live', 'll', 'lol', 'look', 'love', 'make', 'man', 'march', 'meet', 'miss', 'monday', 'morning', 'need', 'negative', 'neutral', 'new', 'news', 'night', 'nov', 'november', 'october', 'party', 'people', 'place', 'play', 'positive', 'ready', 'really', 'right', 'rt', 'said', 'sat', 'saturday', 'say', 'school', 'season', 'start', 'sun', 'sunday', 'sure', 'team', 'think', 'thursday', 'tickets', 'time', 'today', 'tomorrow', 'tonight', 'tuesday', 'u002c', 'u2019m', 'u2019s', 'u2019t', 've', 'vs', 'wait', 'want', 'watch', 'watching', 'way', 'wednesday', 'week', 'weekend', 'win', 'won', 'work', 'world', 'year']\n",
      "       10  1st  2nd  30  3rd  4th  5th  amazon  amp  apple  ...  watching  \\\n",
      "0       0    0    0   0    0    0    0       0    0      0  ...         0   \n",
      "1       0    0    0   0    0    0    0       0    0      0  ...         0   \n",
      "2       0    0    0   0    0    0    0       0    0      0  ...         0   \n",
      "3       0    0    0   0    0    0    0       0    0      0  ...         0   \n",
      "4       0    0    0   0    0    0    0       0    0      0  ...         0   \n",
      "5       0    0    0   0    0    0    0       0    0      0  ...         0   \n",
      "6       0    0    0   0    0    0    0       0    0      0  ...         0   \n",
      "7       0    0    0   0    0    0    0       0    0      0  ...         0   \n",
      "8       0    0    0   0    0    0    0       0    0      0  ...         0   \n",
      "9       0    0    0   0    0    0    0       0    0      0  ...         0   \n",
      "10      0    0    0   0    0    0    0       0    0      0  ...         0   \n",
      "11      0    0    0   0    0    0    0       0    0      2  ...         0   \n",
      "12      0    0    0   0    0    0    0       0    0      0  ...         0   \n",
      "13      0    0    0   0    0    0    0       0    0      0  ...         0   \n",
      "14      0    0    0   0    0    0    0       0    0      0  ...         0   \n",
      "15      0    0    0   0    0    0    0       0    0      0  ...         0   \n",
      "16      0    0    0   0    0    0    0       0    0      0  ...         0   \n",
      "17      0    0    0   1    0    0    0       0    0      0  ...         0   \n",
      "18      0    0    0   0    0    0    0       0    0      0  ...         0   \n",
      "19      0    0    0   0    0    1    0       0    0      0  ...         0   \n",
      "20      0    0    0   0    0    0    0       0    0      0  ...         0   \n",
      "21      0    0    0   1    0    0    0       0    0      0  ...         0   \n",
      "22      0    0    0   0    0    0    0       0    0      0  ...         0   \n",
      "23      0    0    0   0    0    0    0       0    0      0  ...         0   \n",
      "24      0    0    0   0    0    0    0       0    0      0  ...         1   \n",
      "25      0    0    0   0    0    0    0       0    0      0  ...         0   \n",
      "26      0    0    0   0    0    0    0       0    0      0  ...         0   \n",
      "27      1    0    0   0    0    0    0       0    0      0  ...         0   \n",
      "28      0    0    0   0    0    0    0       0    0      0  ...         0   \n",
      "29      0    0    0   0    0    0    0       0    0      0  ...         0   \n",
      "...    ..  ...  ...  ..  ...  ...  ...     ...  ...    ...  ...       ...   \n",
      "28031   0    0    0   1    0    0    0       0    0      0  ...         0   \n",
      "28032   0    0    0   0    0    0    0       0    0      0  ...         0   \n",
      "28033   0    0    0   0    0    0    0       0    0      0  ...         0   \n",
      "28034   0    0    0   0    0    0    0       0    0      0  ...         0   \n",
      "28035   0    0    0   0    0    0    0       0    0      0  ...         0   \n",
      "28036   0    0    0   0    0    0    0       0    0      0  ...         0   \n",
      "28037   0    0    0   0    0    0    0       0    0      0  ...         0   \n",
      "28038   0    0    0   0    0    0    0       0    0      0  ...         0   \n",
      "28039   0    0    1   0    0    0    0       0    2      0  ...         0   \n",
      "28040   0    0    0   0    0    0    0       0    0      0  ...         0   \n",
      "28041   0    0    0   0    0    0    0       0    0      0  ...         0   \n",
      "28042   0    1    0   0    0    0    0       0    0      0  ...         0   \n",
      "28043   0    0    0   0    0    0    0       0    0      0  ...         0   \n",
      "28044   0    0    0   0    0    0    0       0    0      0  ...         0   \n",
      "28045   0    0    0   0    0    0    0       0    0      0  ...         0   \n",
      "28046   0    0    0   0    0    0    0       0    0      0  ...         0   \n",
      "28047   0    0    0   0    0    0    0       0    0      0  ...         0   \n",
      "28048   0    0    0   0    0    0    0       0    0      0  ...         0   \n",
      "28049   0    0    0   0    0    0    0       0    0      0  ...         0   \n",
      "28050   0    0    0   0    0    0    0       0    0      0  ...         0   \n",
      "28051   0    0    0   0    0    0    0       0    0      0  ...         0   \n",
      "28052   0    0    0   0    0    0    0       0    0      0  ...         0   \n",
      "28053   0    0    1   0    1    0    0       0    0      0  ...         0   \n",
      "28054   0    0    0   0    1    0    0       0    0      0  ...         0   \n",
      "28055   0    0    0   0    0    0    0       0    0      0  ...         0   \n",
      "28056   0    0    0   0    0    0    0       0    0      0  ...         0   \n",
      "28057   0    0    0   0    0    0    0       0    0      0  ...         0   \n",
      "28058   0    0    0   0    0    0    0       0    0      0  ...         0   \n",
      "28059   0    0    0   0    0    0    0       0    0      0  ...         0   \n",
      "28060   0    0    0   0    0    0    0       0    0      0  ...         0   \n",
      "\n",
      "       way  wednesday  week  weekend  win  won  work  world  year  \n",
      "0        0          0     0        0    0    0     0      0     0  \n",
      "1        0          0     0        0    0    0     0      0     0  \n",
      "2        0          0     0        0    0    0     0      0     0  \n",
      "3        0          0     0        0    0    0     0      0     0  \n",
      "4        0          0     0        0    0    0     0      0     0  \n",
      "5        0          0     0        0    0    0     0      0     0  \n",
      "6        0          0     1        0    0    0     0      0     0  \n",
      "7        0          0     0        0    0    0     0      0     0  \n",
      "8        0          0     0        0    0    0     0      0     0  \n",
      "9        0          0     0        0    0    0     0      0     0  \n",
      "10       0          0     0        0    0    0     0      0     0  \n",
      "11       0          0     0        0    0    0     0      0     0  \n",
      "12       0          0     0        0    0    0     0      0     0  \n",
      "13       0          0     0        0    0    0     0      0     0  \n",
      "14       0          0     0        0    0    0     0      0     0  \n",
      "15       0          1     0        0    0    0     0      0     0  \n",
      "16       0          0     0        0    0    0     0      0     0  \n",
      "17       0          0     0        0    0    0     0      0     0  \n",
      "18       0          0     0        0    0    0     0      0     0  \n",
      "19       0          0     0        0    0    0     0      0     0  \n",
      "20       0          0     0        0    0    0     0      0     0  \n",
      "21       0          0     0        0    0    0     0      0     0  \n",
      "22       0          0     0        0    0    0     0      0     0  \n",
      "23       0          0     0        0    0    0     0      0     0  \n",
      "24       0          0     0        0    0    0     0      0     0  \n",
      "25       0          0     0        0    0    0     0      0     0  \n",
      "26       0          0     0        0    0    0     0      0     0  \n",
      "27       0          0     0        0    0    0     0      0     0  \n",
      "28       0          0     0        0    0    0     0      0     0  \n",
      "29       0          0     0        0    0    0     0      0     0  \n",
      "...    ...        ...   ...      ...  ...  ...   ...    ...   ...  \n",
      "28031    0          0     0        0    0    0     0      0     0  \n",
      "28032    0          0     0        0    0    0     0      0     0  \n",
      "28033    0          0     0        0    0    0     0      0     0  \n",
      "28034    0          0     0        0    0    0     0      0     0  \n",
      "28035    1          0     0        0    0    0     0      0     0  \n",
      "28036    0          0     0        0    0    0     0      0     0  \n",
      "28037    0          0     0        0    0    0     0      0     0  \n",
      "28038    0          0     0        0    0    0     0      0     0  \n",
      "28039    0          0     0        0    0    0     0      0     0  \n",
      "28040    0          1     0        0    0    0     0      0     0  \n",
      "28041    0          0     0        0    0    0     0      0     0  \n",
      "28042    0          0     0        0    0    0     0      0     0  \n",
      "28043    0          0     0        0    0    0     1      0     0  \n",
      "28044    0          0     0        0    0    0     0      0     0  \n",
      "28045    0          0     0        0    0    0     0      0     0  \n",
      "28046    0          0     0        0    0    0     0      0     0  \n",
      "28047    0          0     0        0    0    0     0      0     0  \n",
      "28048    0          0     0        0    0    0     0      0     0  \n",
      "28049    0          0     0        0    0    0     0      0     0  \n",
      "28050    0          0     0        0    0    0     0      0     0  \n",
      "28051    0          0     0        0    0    0     0      0     0  \n",
      "28052    0          0     0        0    0    0     0      0     0  \n",
      "28053    0          0     0        0    0    0     0      0     0  \n",
      "28054    0          0     0        0    0    0     0      0     0  \n",
      "28055    0          0     0        0    0    0     0      0     0  \n",
      "28056    0          0     0        0    0    0     0      0     0  \n",
      "28057    0          1     0        0    0    0     0      0     0  \n",
      "28058    0          0     0        0    0    0     0      0     0  \n",
      "28059    0          0     0        0    0    0     0      0     0  \n",
      "28060    0          0     0        0    0    0     0      0     0  \n",
      "\n",
      "[28061 rows x 110 columns]\n"
     ]
    }
   ],
   "source": [
    "import pickle\n",
    "with open('../twitter_data/train2017.tsv', 'r', encoding=\"utf8\") as fileInput:\n",
    "    data = ''\n",
    "    for line in fileInput:\n",
    "        line = line.lower()\n",
    "        data += line\n",
    "    \n",
    "tweetList = data.splitlines()\n",
    "\n",
    "from sklearn.feature_extraction.text import CountVectorizer\n",
    "vectorizer = CountVectorizer(max_features = 200,stop_words='english',max_df=0.5,min_df=0.01)\n",
    "\n",
    "vectorizedTweetList = vectorizer.fit_transform(tweetList)\n",
    "print(vectorizer.get_feature_names())\n",
    "\n",
    "import pandas as pd\n",
    "\n",
    "df = pd.DataFrame(data = vectorizedTweetList.toarray(), columns = vectorizer.get_feature_names())\n",
    "\n",
    "pickle_out = open('test.pickle','wb')\n",
    "pickle.dump(df, pickle_out)\n",
    "\n",
    "pickle_in = open('test.pickle','rb')\n",
    "example = pickle.load(pickle_in)\n",
    "print(example)\n"
   ]
  },
  {
   "cell_type": "code",
   "execution_count": null,
   "metadata": {},
   "outputs": [],
   "source": []
  }
 ],
 "metadata": {
  "kernelspec": {
   "display_name": "Python 3",
   "language": "python",
   "name": "python3"
  },
  "language_info": {
   "codemirror_mode": {
    "name": "ipython",
    "version": 3
   },
   "file_extension": ".py",
   "mimetype": "text/x-python",
   "name": "python",
   "nbconvert_exporter": "python",
   "pygments_lexer": "ipython3",
   "version": "3.7.3"
  }
 },
 "nbformat": 4,
 "nbformat_minor": 2
}
