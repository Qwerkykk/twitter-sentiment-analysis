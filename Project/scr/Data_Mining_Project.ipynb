{
 "cells": [
  {
   "cell_type": "markdown",
   "metadata": {},
   "source": [
    "Αρχικά επειδή τα εργαλεία που θα χρησιμοποιήσουμε ειναι case sensitive θα μετατρέψουμε το training set μας σε lowercase"
   ]
  },
  {
   "cell_type": "code",
   "execution_count": 1,
   "metadata": {
    "scrolled": false
   },
   "outputs": [
    {
     "name": "stdout",
     "output_type": "stream",
     "text": [
      "264183816548130816\t15140428\tpositive\tgas by my house hit $3.39!!!! i'm going to chapel hill on sat. :)\n",
      "263405084770172928\t591166521\tnegative\ttheo walcott is still shit, watch rafa and johnny deal with him on saturday.\n",
      "262163168678248449\t35266263\tnegative\tits not that i'm a gsp fan, i just hate nick diaz. can't wait for february.\n",
      "264249301910310912\t18516728\tnegative\tiranian general says israel's iron dome can't deal with their missiles (keep talking like that and we may end up finding out)\n",
      "262682041215234048\t254373818\tneutral\ttehran, mon amour: obama tried to establish ties with the mullahs http://t.co/tzzzrrka via @pjmedia_com no barack obama - vote mitt romney\n",
      "264229576773861376\t518129399\tneutral\ti sat through this whole movie just for harry and ron at christmas. ohlawd\n",
      "264105751826538497\t147088367\tpositive\twith j davlar 11th. main rivals are team poland. hopefully we an make it a successful end to a tough week of training tomorrow.\n",
      "264094586689953794\t332474633\tnegative\ttalking about act's && sat's, deciding where i want to go to college, applying to colleges and everything about college stresses me out.\n"
     ]
    }
   ],
   "source": [
    "#with open('../twitter_data/train2017.tsv', 'r', encoding=\"utf8\") as fileInput:\n",
    "with open('test.tsv', 'r', encoding=\"utf8\") as fileInput:\n",
    "    text = ''\n",
    "    for line in fileInput:\n",
    "        line = line.lower()\n",
    "        text += line\n",
    "    print(text)\n"
   ]
  },
  {
   "cell_type": "markdown",
   "metadata": {},
   "source": [
    "Σπάσιμο κειμένου σε προτάσεις"
   ]
  },
  {
   "cell_type": "code",
   "execution_count": 2,
   "metadata": {
    "scrolled": false
   },
   "outputs": [
    {
     "name": "stdout",
     "output_type": "stream",
     "text": [
      "['264183816548130816\\t15140428\\tpositive\\tgas by my house hit $3.39!!!!', \"i'm going to chapel hill on sat.\", ':)\\n263405084770172928\\t591166521\\tnegative\\ttheo walcott is still shit, watch rafa and johnny deal with him on saturday.', \"262163168678248449\\t35266263\\tnegative\\tits not that i'm a gsp fan, i just hate nick diaz.\", \"can't wait for february.\", \"264249301910310912\\t18516728\\tnegative\\tiranian general says israel's iron dome can't deal with their missiles (keep talking like that and we may end up finding out)\\n262682041215234048\\t254373818\\tneutral\\ttehran, mon amour: obama tried to establish ties with the mullahs http://t.co/tzzzrrka via @pjmedia_com no barack obama - vote mitt romney\\n264229576773861376\\t518129399\\tneutral\\ti sat through this whole movie just for harry and ron at christmas.\", 'ohlawd\\n264105751826538497\\t147088367\\tpositive\\twith j davlar 11th.', 'main rivals are team poland.', 'hopefully we an make it a successful end to a tough week of training tomorrow.', \"264094586689953794\\t332474633\\tnegative\\ttalking about act's && sat's, deciding where i want to go to college, applying to colleges and everything about college stresses me out.\"]\n"
     ]
    }
   ],
   "source": [
    "from nltk import sent_tokenize\n",
    "\n",
    "sentences = sent_tokenize(text)\n",
    "print(sentences)"
   ]
  },
  {
   "cell_type": "markdown",
   "metadata": {},
   "source": [
    "Σπάσιμο προτάσεων σε λέξεις"
   ]
  },
  {
   "cell_type": "code",
   "execution_count": 3,
   "metadata": {},
   "outputs": [
    {
     "name": "stdout",
     "output_type": "stream",
     "text": [
      "['264183816548130816', '15140428', 'positive', 'gas', 'by', 'my', 'house', 'hit', '$', '3.39', '!', '!', '!', '!', 'i', \"'m\", 'going', 'to', 'chapel', 'hill', 'on', 'sat', '.', ':', ')', '263405084770172928', '591166521', 'negative', 'theo', 'walcott', 'is', 'still', 'shit', ',', 'watch', 'rafa', 'and', 'johnny', 'deal', 'with', 'him', 'on', 'saturday', '.', '262163168678248449', '35266263', 'negative', 'its', 'not', 'that', 'i', \"'m\", 'a', 'gsp', 'fan', ',', 'i', 'just', 'hate', 'nick', 'diaz', '.', 'ca', \"n't\", 'wait', 'for', 'february', '.', '264249301910310912', '18516728', 'negative', 'iranian', 'general', 'says', 'israel', \"'s\", 'iron', 'dome', 'ca', \"n't\", 'deal', 'with', 'their', 'missiles', '(', 'keep', 'talking', 'like', 'that', 'and', 'we', 'may', 'end', 'up', 'finding', 'out', ')', '262682041215234048', '254373818', 'neutral', 'tehran', ',', 'mon', 'amour', ':', 'obama', 'tried', 'to', 'establish', 'ties', 'with', 'the', 'mullahs', 'http', ':', '//t.co/tzzzrrka', 'via', '@', 'pjmedia_com', 'no', 'barack', 'obama', '-', 'vote', 'mitt', 'romney', '264229576773861376', '518129399', 'neutral', 'i', 'sat', 'through', 'this', 'whole', 'movie', 'just', 'for', 'harry', 'and', 'ron', 'at', 'christmas', '.', 'ohlawd', '264105751826538497', '147088367', 'positive', 'with', 'j', 'davlar', '11th', '.', 'main', 'rivals', 'are', 'team', 'poland', '.', 'hopefully', 'we', 'an', 'make', 'it', 'a', 'successful', 'end', 'to', 'a', 'tough', 'week', 'of', 'training', 'tomorrow', '.', '264094586689953794', '332474633', 'negative', 'talking', 'about', 'act', \"'s\", '&', '&', 'sat', \"'s\", ',', 'deciding', 'where', 'i', 'want', 'to', 'go', 'to', 'college', ',', 'applying', 'to', 'colleges', 'and', 'everything', 'about', 'college', 'stresses', 'me', 'out', '.']\n"
     ]
    }
   ],
   "source": [
    "from nltk import word_tokenize\n",
    "\n",
    "tokens = word_tokenize(text)\n",
    "print(tokens)"
   ]
  },
  {
   "cell_type": "markdown",
   "metadata": {},
   "source": [
    "Αφαίρεση των tags"
   ]
  },
  {
   "cell_type": "code",
   "execution_count": 4,
   "metadata": {
    "scrolled": true
   },
   "outputs": [
    {
     "name": "stdout",
     "output_type": "stream",
     "text": [
      "['264183816548130816', '15140428', 'positive', 'gas', 'by', 'my', 'house', 'hit', '$', '3.39', '!', '!', '!', '!', 'i', \"'m\", 'going', 'to', 'chapel', 'hill', 'on', 'sat', '.', ':', ')', '263405084770172928', '591166521', 'negative', 'theo', 'walcott', 'is', 'still', 'shit', ',', 'watch', 'rafa', 'and', 'johnny', 'deal', 'with', 'him', 'on', 'saturday', '.', '262163168678248449', '35266263', 'negative', 'its', 'not', 'that', 'i', \"'m\", 'a', 'gsp', 'fan', ',', 'i', 'just', 'hate', 'nick', 'diaz', '.', 'ca', \"n't\", 'wait', 'for', 'february', '.', '264249301910310912', '18516728', 'negative', 'iranian', 'general', 'says', 'israel', \"'s\", 'iron', 'dome', 'ca', \"n't\", 'deal', 'with', 'their', 'missiles', '(', 'keep', 'talking', 'like', 'that', 'and', 'we', 'may', 'end', 'up', 'finding', 'out', ')', '262682041215234048', '254373818', 'neutral', 'tehran', ',', 'mon', 'amour', ':', 'obama', 'tried', 'to', 'establish', 'ties', 'with', 'the', 'mullahs', 'http', ':', '//t.co/tzzzrrka', 'via', 'no', 'barack', 'obama', '-', 'vote', 'mitt', 'romney', '264229576773861376', '518129399', 'neutral', 'i', 'sat', 'through', 'this', 'whole', 'movie', 'just', 'for', 'harry', 'and', 'ron', 'at', 'christmas', '.', 'ohlawd', '264105751826538497', '147088367', 'positive', 'with', 'j', 'davlar', '11th', '.', 'main', 'rivals', 'are', 'team', 'poland', '.', 'hopefully', 'we', 'an', 'make', 'it', 'a', 'successful', 'end', 'to', 'a', 'tough', 'week', 'of', 'training', 'tomorrow', '.', '264094586689953794', '332474633', 'negative', 'talking', 'about', 'act', \"'s\", '&', '&', 'sat', \"'s\", ',', 'deciding', 'where', 'i', 'want', 'to', 'go', 'to', 'college', ',', 'applying', 'to', 'colleges', 'and', 'everything', 'about', 'college', 'stresses', 'me', 'out', '.']\n"
     ]
    }
   ],
   "source": [
    "for word in tokens:\n",
    "    if word == '@':\n",
    "        tokens.remove(tokens[tokens.index(word)+1])\n",
    "        tokens.remove(tokens[tokens.index(word)])\n",
    "print(tokens)"
   ]
  },
  {
   "cell_type": "markdown",
   "metadata": {},
   "source": [
    "Καθάρισμα σημείων στήξεως"
   ]
  },
  {
   "cell_type": "code",
   "execution_count": 5,
   "metadata": {
    "scrolled": true
   },
   "outputs": [
    {
     "name": "stdout",
     "output_type": "stream",
     "text": [
      "['264183816548130816', '15140428', 'positive', 'gas', 'by', 'my', 'house', 'hit', '', '3.39', '', '', '', '', 'i', 'm', 'going', 'to', 'chapel', 'hill', 'on', 'sat', '', '', '', '263405084770172928', '591166521', 'negative', 'theo', 'walcott', 'is', 'still', 'shit', '', 'watch', 'rafa', 'and', 'johnny', 'deal', 'with', 'him', 'on', 'saturday', '', '262163168678248449', '35266263', 'negative', 'its', 'not', 'that', 'i', 'm', 'a', 'gsp', 'fan', '', 'i', 'just', 'hate', 'nick', 'diaz', '', 'ca', \"n't\", 'wait', 'for', 'february', '', '264249301910310912', '18516728', 'negative', 'iranian', 'general', 'says', 'israel', 's', 'iron', 'dome', 'ca', \"n't\", 'deal', 'with', 'their', 'missiles', '', 'keep', 'talking', 'like', 'that', 'and', 'we', 'may', 'end', 'up', 'finding', 'out', '', '262682041215234048', '254373818', 'neutral', 'tehran', '', 'mon', 'amour', '', 'obama', 'tried', 'to', 'establish', 'ties', 'with', 'the', 'mullahs', 'http', '', 't.co/tzzzrrka', 'via', 'no', 'barack', 'obama', '', 'vote', 'mitt', 'romney', '264229576773861376', '518129399', 'neutral', 'i', 'sat', 'through', 'this', 'whole', 'movie', 'just', 'for', 'harry', 'and', 'ron', 'at', 'christmas', '', 'ohlawd', '264105751826538497', '147088367', 'positive', 'with', 'j', 'davlar', '11th', '', 'main', 'rivals', 'are', 'team', 'poland', '', 'hopefully', 'we', 'an', 'make', 'it', 'a', 'successful', 'end', 'to', 'a', 'tough', 'week', 'of', 'training', 'tomorrow', '', '264094586689953794', '332474633', 'negative', 'talking', 'about', 'act', 's', '', '', 'sat', 's', '', 'deciding', 'where', 'i', 'want', 'to', 'go', 'to', 'college', '', 'applying', 'to', 'colleges', 'and', 'everything', 'about', 'college', 'stresses', 'me', 'out', '']\n"
     ]
    }
   ],
   "source": [
    "from string import punctuation\n",
    "clearedTokens = []\n",
    "for word in tokens:\n",
    "    clearedTokens.append(word.strip(punctuation))\n",
    "print(clearedTokens)\n"
   ]
  },
  {
   "cell_type": "markdown",
   "metadata": {},
   "source": [
    "Καθάρισμα απο stopwords και κενα tokens"
   ]
  },
  {
   "cell_type": "code",
   "execution_count": 6,
   "metadata": {
    "scrolled": true
   },
   "outputs": [
    {
     "name": "stdout",
     "output_type": "stream",
     "text": [
      "['264183816548130816', '15140428', 'positive', 'gas', 'house', 'hit', '3.39', 'going', 'chapel', 'hill', 'sat', '263405084770172928', '591166521', 'negative', 'theo', 'walcott', 'still', 'shit', 'watch', 'rafa', 'johnny', 'deal', 'saturday', '262163168678248449', '35266263', 'negative', 'gsp', 'fan', 'hate', 'nick', 'diaz', 'ca', \"n't\", 'wait', 'february', '264249301910310912', '18516728', 'negative', 'iranian', 'general', 'says', 'israel', 'iron', 'dome', 'ca', \"n't\", 'deal', 'missiles', 'keep', 'talking', 'like', 'may', 'end', 'finding', '262682041215234048', '254373818', 'neutral', 'tehran', 'mon', 'amour', 'obama', 'tried', 'establish', 'ties', 'mullahs', 'http', 't.co/tzzzrrka', 'via', 'barack', 'obama', 'vote', 'mitt', 'romney', '264229576773861376', '518129399', 'neutral', 'sat', 'whole', 'movie', 'harry', 'ron', 'christmas', 'ohlawd', '264105751826538497', '147088367', 'positive', 'j', 'davlar', '11th', 'main', 'rivals', 'team', 'poland', 'hopefully', 'make', 'successful', 'end', 'tough', 'week', 'training', 'tomorrow', '264094586689953794', '332474633', 'negative', 'talking', 'act', 'sat', 'deciding', 'want', 'go', 'college', 'applying', 'colleges', 'everything', 'college', 'stresses']\n"
     ]
    }
   ],
   "source": [
    "from nltk.corpus import stopwords\n",
    "filtered = [w for w in clearedTokens if not w in stopwords.words('english') and w != '']\n",
    "print(filtered)"
   ]
  }
 ],
 "metadata": {
  "kernelspec": {
   "display_name": "Python 3",
   "language": "python",
   "name": "python3"
  },
  "language_info": {
   "codemirror_mode": {
    "name": "ipython",
    "version": 3
   },
   "file_extension": ".py",
   "mimetype": "text/x-python",
   "name": "python",
   "nbconvert_exporter": "python",
   "pygments_lexer": "ipython3",
   "version": "3.7.3"
  }
 },
 "nbformat": 4,
 "nbformat_minor": 2
}
